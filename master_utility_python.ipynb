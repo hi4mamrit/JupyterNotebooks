{
 "cells": [
  {
   "cell_type": "code",
   "execution_count": 1,
   "metadata": {
    "collapsed": true
   },
   "outputs": [],
   "source": [
    "#Counter-> support default value i.e 0  ,doesn't raise error for missing key\n",
    "#DefaultDict-> support default value which its __repr__ provides ,doesn't raise error for missing key\n",
    "#OrderedDict-> Doesn't support default value ,raise error for missing key"
   ]
  },
  {
   "cell_type": "markdown",
   "metadata": {},
   "source": [
    "# Counter"
   ]
  },
  {
   "cell_type": "code",
   "execution_count": 2,
   "metadata": {
    "collapsed": true
   },
   "outputs": [],
   "source": [
    "#Counter a program to output the count of different fruits present in refrigerator\n",
    "# from dir(stock_ref) use most_common, keys, subtract, update\n",
    "\n",
    "from collections import Counter\n",
    "stock_ref = Counter()  #Initial stage of Fridge\n",
    "\n",
    "stock_ref['apple'] +=30\n",
    "stock_ref['banana'] +=20\n",
    "stock_ref['cherry'] +=10\n",
    "stock_ref['papaya'] +=25"
   ]
  },
  {
   "cell_type": "code",
   "execution_count": 3,
   "metadata": {},
   "outputs": [
    {
     "data": {
      "text/plain": [
       "[('apple', 30), ('papaya', 25), ('banana', 20), ('cherry', 10)]"
      ]
     },
     "execution_count": 3,
     "metadata": {},
     "output_type": "execute_result"
    }
   ],
   "source": [
    "stock_ref.most_common()  #descending order"
   ]
  },
  {
   "cell_type": "code",
   "execution_count": 4,
   "metadata": {},
   "outputs": [
    {
     "data": {
      "text/plain": [
       "[('cherry', 50), ('apple', 30), ('papaya', 30), ('banana', 20)]"
      ]
     },
     "execution_count": 4,
     "metadata": {},
     "output_type": "execute_result"
    }
   ],
   "source": [
    "#A consignment came of 40 cherries and 5 papayas\n",
    "in_con={'cherry':40 ,'papaya':5}\n",
    "stock_ref.update(in_con)\n",
    "stock_ref.most_common()"
   ]
  },
  {
   "cell_type": "code",
   "execution_count": 5,
   "metadata": {},
   "outputs": [
    {
     "data": {
      "text/plain": [
       "[('cherry', 51), ('apple', 31), ('papaya', 30), ('banana', 20)]"
      ]
     },
     "execution_count": 5,
     "metadata": {},
     "output_type": "execute_result"
    }
   ],
   "source": [
    "# add 1 apple and add 1 cherry\n",
    "stock_ref.update(['apple','cherry'])\n",
    "stock_ref.most_common()"
   ]
  },
  {
   "cell_type": "code",
   "execution_count": 6,
   "metadata": {},
   "outputs": [
    {
     "data": {
      "text/plain": [
       "[('cherry', 41), ('papaya', 30), ('apple', 26), ('banana', 20)]"
      ]
     },
     "execution_count": 6,
     "metadata": {},
     "output_type": "execute_result"
    }
   ],
   "source": [
    "# I ate 5 apples and 10 cherries\n",
    "eat_fruit ={'apple':5,'cherry':10}\n",
    "stock_ref.subtract(eat_fruit)\n",
    "stock_ref.most_common()"
   ]
  },
  {
   "cell_type": "code",
   "execution_count": 7,
   "metadata": {},
   "outputs": [
    {
     "data": {
      "text/plain": [
       "dict_keys(['apple', 'banana', 'cherry', 'papaya'])"
      ]
     },
     "execution_count": 7,
     "metadata": {},
     "output_type": "execute_result"
    }
   ],
   "source": [
    "#items present in Fridge\n",
    "stock_ref.keys()"
   ]
  },
  {
   "cell_type": "markdown",
   "metadata": {},
   "source": [
    "# DefaultDict"
   ]
  },
  {
   "cell_type": "code",
   "execution_count": 8,
   "metadata": {},
   "outputs": [
    {
     "name": "stdout",
     "output_type": "stream",
     "text": [
      "Following are a set of examples, where I show what are the default values of different default dictionaries         when a key is missing\n",
      "int dd value ->  0\n",
      "str dd value ->  \n",
      "float dd value ->  0.0\n",
      "custom fn dd value ->  val_myfn\n",
      "custom class dd value ->  class_value\n"
     ]
    }
   ],
   "source": [
    "from collections import defaultdict\n",
    "\n",
    "print(\"Following are a set of examples, where I show what are the default values of different default dictionaries \\\n",
    "        when a key is missing\")\n",
    "#--\n",
    "int_dd = defaultdict(int)\n",
    "print('int dd value -> ',int_dd['missing_key'])  # repr of integer class type default value i.e 0\n",
    "\n",
    "#--\n",
    "str_dd = defaultdict(str)\n",
    "print('str dd value -> ',str_dd['missing_key'])  # repr of str class type default value i.e ''\n",
    "\n",
    "#--\n",
    "float_dd = defaultdict(float)\n",
    "print('float dd value -> ',float_dd['missing_key']) # repr of float class type default value i.e 0.0\n",
    "\n",
    "\"\"\"\n",
    "cust_dd = defaultdict('Amrit')\n",
    "print('custom dd value -> ',cust_dd['missing_key']) # This will fail manual default value i.e 'Amrit' ,try doing function way\n",
    "\"\"\"\n",
    "\n",
    "#--\n",
    "def myfun():\n",
    "    return 'val_myfn'\n",
    "\n",
    "fun_dd = defaultdict(myfun)\n",
    "print('custom fn dd value -> ',fun_dd['missing_key']) # return value of custom function i.e 'val_myfn'\n",
    "\n",
    "#--\n",
    "class A:\n",
    "    def __init__(self,x='class_value'):\n",
    "        self._x =x\n",
    "        \n",
    "    def  __repr__(self):\n",
    "        return f\"{self._x}\"\n",
    "\n",
    "class_dd = defaultdict(A)\n",
    "print('custom class dd value -> ',class_dd['missing_key']) # __repr__ value of custom class i.e 'class_value'\n",
    "#--"
   ]
  },
  {
   "cell_type": "markdown",
   "metadata": {},
   "source": [
    "# OrderedDict"
   ]
  },
  {
   "cell_type": "code",
   "execution_count": 9,
   "metadata": {},
   "outputs": [
    {
     "name": "stdout",
     "output_type": "stream",
     "text": [
      "OrderedDict([('pencil', 2), ('rubber', 3), ('pen', 5), ('scale', 7), ('ruler', 8)])\n",
      "OrderedDict([('pencil', 2), ('rubber', 9), ('pen', 5), ('scale', 7), ('ruler', 8)])  #Still order of keys is preserved\n",
      "OrderedDict([('pencil', 2), ('pen', 5), ('scale', 7), ('ruler', 8), ('rubber', 9)])  #rubber is moved to end\n",
      "OrderedDict([('rubber', 9), ('pencil', 2), ('pen', 5), ('scale', 7), ('ruler', 8)])  #rubber is moved to top\n",
      "OrderedDict([('rubber', 9), ('pencil', 2), ('pen', 5), ('scale', 7)])  #popped the last item\n",
      "OrderedDict([('pencil', 2), ('pen', 5), ('scale', 7)])  #popped the first item\n",
      "OrderedDict([('pencil', 2), ('scale', 7)])  #After pop using key\n"
     ]
    }
   ],
   "source": [
    "from collections import OrderedDict\n",
    "#from dir(OrderedDict) use pop, move_to_end, keys, update\n",
    "my_Odd = OrderedDict()\n",
    "my_Odd.update({'pencil':2})\n",
    "my_Odd.update({'rubber':3})\n",
    "my_Odd.update({'pen':5})\n",
    "my_Odd.update({'scale':7})\n",
    "my_Odd.update({'ruler':8})\n",
    "\n",
    "print(my_Odd)    #maintians the order in which the keys are inserted\n",
    "\n",
    "my_Odd['rubber'] = 9\n",
    "print(my_Odd,\" #Still order of keys is preserved\")\n",
    "\n",
    "#change order , only u can bring to top and bring to end\n",
    "my_Odd.move_to_end('rubber')\n",
    "print(my_Odd,\" #rubber is moved to end\")\n",
    "\n",
    "my_Odd.move_to_end('rubber',last=False)\n",
    "print(my_Odd,\" #rubber is moved to top\")\n",
    "\n",
    "last_pop = my_Odd.popitem()\n",
    "print(my_Odd,\" #popped the last item\")\n",
    "\n",
    "first_pop = my_Odd.popitem(last=False)\n",
    "print(my_Odd,\" #popped the first item\")\n",
    "\n",
    "k=my_Odd.pop('pen')\n",
    "print(my_Odd,\" #After pop using key\")"
   ]
  },
  {
   "cell_type": "markdown",
   "metadata": {},
   "source": [
    "# Deque"
   ]
  },
  {
   "cell_type": "code",
   "execution_count": 10,
   "metadata": {},
   "outputs": [
    {
     "data": {
      "text/plain": [
       "deque([1, 2, 3, 4, 5, 6])"
      ]
     },
     "execution_count": 10,
     "metadata": {},
     "output_type": "execute_result"
    }
   ],
   "source": [
    "#Pronounced as \"DECK\"  most useful for it's 'rotate' and maxlen characters\n",
    "# from deque, use appendleft,popleft,extendleft,\n",
    "\n",
    "from collections import deque\n",
    "my_deck = deque(range(1,7),maxlen=6)\n",
    "my_deck"
   ]
  },
  {
   "cell_type": "code",
   "execution_count": 11,
   "metadata": {},
   "outputs": [
    {
     "data": {
      "text/plain": [
       "deque([7, 1, 2, 3, 4, 5])"
      ]
     },
     "execution_count": 11,
     "metadata": {},
     "output_type": "execute_result"
    }
   ],
   "source": [
    "my_deck.appendleft(7) # as maxlen=6 , 7 inserts to left and right-most element gets popped\n",
    "my_deck"
   ]
  },
  {
   "cell_type": "code",
   "execution_count": 12,
   "metadata": {},
   "outputs": [
    {
     "data": {
      "text/plain": [
       "deque([2, 3, 4, 5, 7, 1])"
      ]
     },
     "execution_count": 12,
     "metadata": {},
     "output_type": "execute_result"
    }
   ],
   "source": [
    "my_deck.rotate(4) # put last 4 elements on first\n",
    "my_deck"
   ]
  },
  {
   "cell_type": "code",
   "execution_count": 13,
   "metadata": {},
   "outputs": [
    {
     "data": {
      "text/plain": [
       "deque([4, 5, 7, 1, 2, 3])"
      ]
     },
     "execution_count": 13,
     "metadata": {},
     "output_type": "execute_result"
    }
   ],
   "source": [
    "my_deck.rotate(-2) # puts first 2 elements at last\n",
    "my_deck"
   ]
  },
  {
   "cell_type": "code",
   "execution_count": 14,
   "metadata": {},
   "outputs": [
    {
     "data": {
      "text/plain": [
       "deque([2, 3, 4, 5, 7, 1])"
      ]
     },
     "execution_count": 14,
     "metadata": {},
     "output_type": "execute_result"
    }
   ],
   "source": [
    "#if you rotate it to a value more than length, then it is equal to value%length i.e remainder\n",
    "my_deck.rotate(20)    #equivalent to 20%6 = 2 i.e rotate(2)\n",
    "my_deck"
   ]
  },
  {
   "cell_type": "code",
   "execution_count": 15,
   "metadata": {
    "scrolled": true
   },
   "outputs": [
    {
     "name": "stdout",
     "output_type": "stream",
     "text": [
      "Current Job A is still running with 5 tasks remaining\n",
      "Current Job D is still running with 5 tasks remaining\n",
      "Current Job C is still running with 15 tasks remaining\n",
      "Current Job B is still running with 8 tasks remaining\n",
      "Current Job A is completed.Removing from Job Queue\n",
      "Current Job D is completed.Removing from Job Queue\n",
      "Current Job C is still running with 10 tasks remaining\n",
      "Current Job B is still running with 3 tasks remaining\n",
      "Current Job C is still running with 5 tasks remaining\n",
      "Current Job B is completed.Removing from Job Queue\n",
      "Current Job C is completed.Removing from Job Queue\n"
     ]
    }
   ],
   "source": [
    "#program a single cpu multiprocessor whick works in round-robin fashion by implementing deque as a circular queue with rotate\n",
    "import random\n",
    "\n",
    "jname_jcount = dict(\\\n",
    "                    zip( [i for i in \"ABCD\"],\\\n",
    "                         [random.randint(8,20) for _ in range(5)])\\\n",
    "                   )\n",
    "job_queue = deque(jname_jcount.keys())\n",
    "\n",
    "while bool(job_queue):\n",
    "    current_job = job_queue[0]\n",
    "    jname_jcount[current_job] -=5\n",
    "    \n",
    "    if jname_jcount[ current_job ] <= 0:\n",
    "        print (f\"Current Job {current_job} is completed.Removing from Job Queue\")\n",
    "        job_queue.remove(current_job)\n",
    "    else:\n",
    "        print (f\"Current Job {current_job} is still running with {jname_jcount[current_job]} tasks remaining\")\n",
    "    \n",
    "    job_queue.rotate(1)"
   ]
  },
  {
   "cell_type": "markdown",
   "metadata": {},
   "source": [
    "# Regex"
   ]
  },
  {
   "cell_type": "code",
   "execution_count": 16,
   "metadata": {},
   "outputs": [
    {
     "name": "stdout",
     "output_type": "stream",
     "text": [
      "re module\n"
     ]
    }
   ],
   "source": [
    "\"\"\"\n",
    "\\   Used to drop the special meaning of character\n",
    "    following it (discussed below)\n",
    "[]  Represent a character class\n",
    "^   Matches the beginning\n",
    "$   Matches the end\n",
    ".   Matches any character except newline\n",
    "?   Matches zero or one occurrence.\n",
    "|   Means OR (Matches with any of the characters\n",
    "    separated by it.\n",
    "*   Any number of occurrences (including 0 occurrences)\n",
    "+   One or more occurrences\n",
    "{}  Indicate number of occurrences of a preceding RE \n",
    "    to match.\n",
    "()  Enclose a group of REs\n",
    "\n",
    "*****\n",
    "\n",
    "\\d   Matches any decimal digit, this is equivalent\n",
    "     to the set class [0-9].\n",
    "\\D   Matches any non-digit character.\n",
    "\\s   Matches any whitespace character.\n",
    "\\S   Matches any non-whitespace character\n",
    "\\w   Matches any alphanumeric character, this is\n",
    "     equivalent to the class [a-zA-Z0-9_].\n",
    "\\W   Matches any non-alphanumeric character.\n",
    "\n",
    "*****\n",
    "\n",
    "A regex pattern is provided and a regex object is created with re.compile(<pattern>).\n",
    "when a match object is returned from match or finditer or search ,below utilities can be used:-\n",
    "match object contains --> start(),end(),span(),groupdict(),group()\n",
    "\n",
    "Useful methods --> re.split , re.search , re.match , re.findall , re.finditer , re.sub\n",
    "Above useful methods can be called like regex.split() where regex is the regex object created with re.compile(<pattern>)\n",
    "\"\"\"\n",
    "print(\"re module\")"
   ]
  },
  {
   "cell_type": "code",
   "execution_count": 17,
   "metadata": {
    "scrolled": true
   },
   "outputs": [
    {
     "name": "stdout",
     "output_type": "stream",
     "text": [
      "['JOhn ', ' Doe']\n",
      "['JOhn ', ' Doe']\n"
     ]
    }
   ],
   "source": [
    "import re\n",
    "\n",
    "## split\n",
    "pattern = '[A-Z]\\.'\n",
    "inp_str = 'JOhn c. Doe'\n",
    "\n",
    "#using Direct high level re module\n",
    "print( re.split(pattern,inp_str,flags=re.IGNORECASE) )\n",
    "\n",
    "#or regex object (give the IGNORECASE always in compile method.  coz it is a top level flag for re)\n",
    "\n",
    "regex = re.compile(pattern,flags=re.IGNORECASE)\n",
    "print( regex.split(inp_str) )"
   ]
  },
  {
   "cell_type": "code",
   "execution_count": 18,
   "metadata": {},
   "outputs": [
    {
     "name": "stdout",
     "output_type": "stream",
     "text": [
      "200  <-- return the first found value\n",
      "(4, 7)  <-- return the inclusive index range\n",
      "<_sre.SRE_Match object; span=(4, 7), match='200'>  <--without any method call, it simply returns the match object\n"
     ]
    }
   ],
   "source": [
    "## search  --> Finds the first match\n",
    "## re.match() --> similar to <search> ,found only if pattern matches from start of input string\n",
    "## Both return match objects, so need to use group() and span() to see values\n",
    "\n",
    "pattern = '\\d{3}'\n",
    "inp_str = 'hey 2000 ok 400'\n",
    "\n",
    "#using Direct high level re module\n",
    "x = re.search(pattern,inp_str,flags=re.IGNORECASE)\n",
    "print(x.group(),\" <-- return the first found value\")\n",
    "print(x.span(),\" <-- return the inclusive index range\")         \n",
    "\n",
    "#or regex object (give the IGNORECASE always in compile method.  coz it is a top level flag for re)\n",
    "regex=re.compile(pattern,flags=re.IGNORECASE)\n",
    "print( regex.search(inp_str) ,\" <--without any method call, it simply returns the match object\" )"
   ]
  },
  {
   "cell_type": "code",
   "execution_count": 19,
   "metadata": {},
   "outputs": [
    {
     "name": "stdout",
     "output_type": "stream",
     "text": [
      "['200', '400', '500']  <-- return all found values\n",
      "['200', '400', '500']  <-- No need of method call,direct values\n"
     ]
    }
   ],
   "source": [
    "## findall --> finds all match  -->direct return values not match objects\n",
    "\n",
    "pattern = '\\d{3}'\n",
    "inp_str = 'hey 200 ok 400 not 500'\n",
    "\n",
    "#using Direct high level re module\n",
    "x=re.findall(pattern,inp_str,flags=re.IGNORECASE)\n",
    "print(x,\" <-- return all found values\")\n",
    "\n",
    "#or regex object (give the IGNORECASE always in compile method.  coz it is a top level flag for re)\n",
    "regex=re.compile(pattern,flags=re.IGNORECASE)\n",
    "print( regex.findall(inp_str) ,\" <-- No need of method call,direct values\" )"
   ]
  },
  {
   "cell_type": "code",
   "execution_count": 20,
   "metadata": {
    "scrolled": true
   },
   "outputs": [
    {
     "name": "stdout",
     "output_type": "stream",
     "text": [
      "200  <-- return the nth found value\n",
      "(4, 7)  <-- return the nth inclusive index range\n",
      "\n",
      "400  <-- return the nth found value\n",
      "(11, 14)  <-- return the nth inclusive index range\n",
      "\n",
      "500  <-- return the nth found value\n",
      "(19, 22)  <-- return the nth inclusive index range\n",
      "\n"
     ]
    }
   ],
   "source": [
    "## finditer --> finds all match objects and returns an iterator -->so need to use group()\n",
    "\n",
    "pattern = '\\d{3}'\n",
    "inp_str = 'hey 200 ok 400 not 500'\n",
    "\n",
    "#using Direct high level re module\n",
    "x = re.finditer(pattern,inp_str,flags=re.IGNORECASE)\n",
    "for i in x:\n",
    "    print(i.group(),\" <-- return the nth found value\")\n",
    "    print(i.span(),\" <-- return the nth inclusive index range\",end=\"\\n\\n\")         \n"
   ]
  },
  {
   "cell_type": "code",
   "execution_count": 21,
   "metadata": {},
   "outputs": [
    {
     "name": "stdout",
     "output_type": "stream",
     "text": [
      "Hi, Who are you !!! I asked Who ?  <-- count is not specified, so replace all\n",
      "Hi, Who are you !!! I asked How ?  <-- count is 1, so replace the first occurence\n",
      "Hi, Who are you !!! I asked Who ?  <-- replace all occurences \n"
     ]
    }
   ],
   "source": [
    "## sub --> returns original string if no match found , else the substituted string for all occurences\n",
    "\n",
    "pattern ='how'\n",
    "inp_str ='Hi, How are you !!! I asked How ?'\n",
    "\n",
    "#using Direct high level re module\n",
    "x= re.sub(pattern,'Who',inp_str,flags=re.IGNORECASE)\n",
    "print(x, \" <-- count is not specified, so replace all\")\n",
    "\n",
    "y= re.sub(pattern,'Who',inp_str,flags=re.IGNORECASE,count=1)\n",
    "print(y, \" <-- count is 1, so replace the first occurence\")\n",
    "\n",
    "\n",
    "regex=re.compile(pattern,flags=re.IGNORECASE)\n",
    "print(regex.sub('Who',inp_str), \" <-- replace all occurences \")"
   ]
  },
  {
   "cell_type": "code",
   "execution_count": 22,
   "metadata": {
    "scrolled": true
   },
   "outputs": [
    {
     "name": "stdout",
     "output_type": "stream",
     "text": [
      "range(1, 5)\n",
      "1 2 3 4\n"
     ]
    }
   ],
   "source": [
    "print(range(1,5))\n",
    "print(*range(1,5))\n",
    "# Exercise--> Find a way to replace all the occurences starting from 2nd one"
   ]
  },
  {
   "cell_type": "markdown",
   "metadata": {},
   "source": [
    "# random module"
   ]
  },
  {
   "cell_type": "raw",
   "metadata": {},
   "source": [
    "\"\"\"\n",
    "random() ,uniform(m,n) ,randint(m,n) ,randrange(m,n) <--input is Number\n",
    "choice() ,sample() ,shuffle()  <--input is sequence\n",
    "seed(n)   <- n is provided to always get the same value. If no 'n' , then random module uses system_time as 'n' ,which is never a constant\n",
    "\n",
    "\"\"\""
   ]
  },
  {
   "cell_type": "code",
   "execution_count": 23,
   "metadata": {},
   "outputs": [
    {
     "name": "stdout",
     "output_type": "stream",
     "text": [
      "0.026560848345774435 <--generates a float number between 0 and 1 \n",
      "6.23192101194482 <--generates a float number between m<= x <=n \n",
      "8 <--generates an int number between m and n (possible values=4,5,6,7,8)\n",
      "6 <--generates an int number between m and n  with step(possible values=4,6)\n"
     ]
    }
   ],
   "source": [
    "from random import *\n",
    "\n",
    "# on Numbers\n",
    "print(random() ,\"<--generates a float number between 0 and 1 \")\n",
    "print(uniform(4,8) ,\"<--generates a float number between m<= x <=n \")\n",
    "print(randint(4,8) ,\"<--generates an int number between m and n (possible values=4,5,6,7,8)\")\n",
    "print(randrange(4,8,step=2) ,\"<--generates an int number between m and n  with step(possible values=4,6)\")\n"
   ]
  },
  {
   "cell_type": "code",
   "execution_count": 24,
   "metadata": {},
   "outputs": [
    {
     "name": "stdout",
     "output_type": "stream",
     "text": [
      "tobu <--choice() generates a random value from sequence\n",
      "['mona', 'tobu', 'abhi'] <--sample() returns a sequence of n items \n",
      "['amiya', 'amrit', 'abhi', 'mona', 'tobu'] <--shuffle() shuffles the original sequence in place\n"
     ]
    }
   ],
   "source": [
    "#on sequence (works on non empty sequence, else throws IndexError)\n",
    "my_seq =['amrit','amiya','abhi','tobu','mona']\n",
    "\n",
    "print(choice(my_seq) ,\"<--choice() generates a random value from sequence\")\n",
    "print( sample(my_seq,3) ,\"<--sample() returns a sequence of n items \")\n",
    "shuffle(my_seq)\n",
    "print(my_seq ,\"<--shuffle() shuffles the original sequence in place\")\n"
   ]
  },
  {
   "cell_type": "code",
   "execution_count": 25,
   "metadata": {},
   "outputs": [
    {
     "name": "stdout",
     "output_type": "stream",
     "text": [
      "0.23796462709189137 <--generates a float number between 0 and 1 \n",
      "6.176916901183807 <--generates a float number between m<= x <=n \n",
      "6 <--generates an int number between m and n (possible values=4,5,6,7,8)\n",
      "6 <--generates an int number between m and n  with step(possible values=4,6)\n"
     ]
    }
   ],
   "source": [
    "# with seed, always the same result is produced\n",
    "seed(3)\n",
    "print(random() ,\"<--generates a float number between 0 and 1 \")\n",
    "print(uniform(4,8) ,\"<--generates a float number between m<= x <=n \")\n",
    "print(randint(4,8) ,\"<--generates an int number between m and n (possible values=4,5,6,7,8)\")\n",
    "print(randrange(4,8,step=2) ,\"<--generates an int number between m and n  with step(possible values=4,6)\")"
   ]
  },
  {
   "cell_type": "code",
   "execution_count": 26,
   "metadata": {
    "scrolled": true
   },
   "outputs": [
    {
     "name": "stdout",
     "output_type": "stream",
     "text": [
      "amrit <--choice() generates a random value from sequence\n",
      "['amrit', 'mona', 'amiya'] <--sample() returns a sequence of n items \n",
      "['tobu', 'amrit', 'mona', 'abhi', 'amiya'] <--shuffle() shuffles the original sequence in place\n"
     ]
    }
   ],
   "source": [
    "# with seed, always the same result is produced\n",
    "my_seq =['amrit','amiya','abhi','tobu','mona']\n",
    "seed(2)\n",
    "print(choice(my_seq) ,\"<--choice() generates a random value from sequence\")\n",
    "print( sample(my_seq,3) ,\"<--sample() returns a sequence of n items \")\n",
    "shuffle(my_seq)\n",
    "print(my_seq ,\"<--shuffle() shuffles the original sequence in place\")"
   ]
  },
  {
   "cell_type": "markdown",
   "metadata": {},
   "source": [
    "# string module"
   ]
  },
  {
   "cell_type": "code",
   "execution_count": 27,
   "metadata": {
    "scrolled": true
   },
   "outputs": [
    {
     "name": "stdout",
     "output_type": "stream",
     "text": [
      "abcdefghijklmnopqrstuvwxyz\n",
      "ABCDEFGHIJKLMNOPQRSTUVWXYZ\n",
      "abcdefghijklmnopqrstuvwxyzABCDEFGHIJKLMNOPQRSTUVWXYZ\n",
      "0123456789\n",
      "!\"#$%&'()*+,-./:;<=>?@[\\]^_`{|}~\n"
     ]
    },
    {
     "data": {
      "text/plain": [
       "' \\t\\n\\r\\x0b\\x0c'"
      ]
     },
     "execution_count": 27,
     "metadata": {},
     "output_type": "execute_result"
    }
   ],
   "source": [
    "import string\n",
    "print(string.ascii_lowercase)\n",
    "print(string.ascii_uppercase)\n",
    "print(string.ascii_letters)\n",
    "print(string.digits)\n",
    "print(string.punctuation)\n",
    "string.whitespace"
   ]
  },
  {
   "cell_type": "markdown",
   "metadata": {},
   "source": [
    "# argparse module"
   ]
  },
  {
   "cell_type": "code",
   "execution_count": 28,
   "metadata": {},
   "outputs": [
    {
     "name": "stdout",
     "output_type": "stream",
     "text": [
      "argparse module\n"
     ]
    }
   ],
   "source": [
    "\"\"\"\n",
    "#Follow the format- big_option(--) ,small_option(-) ,\\\n",
    "#                    argument_type(type) ,variable_name(dest),\\\n",
    "#                    help_text(help), default_value(default), action_for_boolean(action)\n",
    "                    \n",
    "#main.py content:-\n",
    "\n",
    "import argparse\n",
    "\n",
    "#create an argument parser\n",
    "argparser = argparse.ArgumentParser(description=\"Random Password Generator\")\n",
    "\n",
    "#add arguments to argument parser\n",
    "argparser.add_argument('--min_length','-n',type=int,dest='min_length',help='Minimum Length of Password',default=8)\n",
    "argparser.add_argument('--max_length','-x',type=int,dest='max_length',help='Maximum Length of Password',default=16)\n",
    "argparser.add_argument('--stats','-s',dest='stats',help='Show Password Stats',action='store_true')\n",
    "argparser.add_argument('--use_special','-u',dest='punctuation',help='Include Special Chars in Password',action='store_true')\n",
    "\n",
    "#parse all arguments\n",
    "args=argparser.parse_args()\n",
    "\n",
    "#Access all arguments--\n",
    "print(args.min_length)\n",
    "print(args.max_length)\n",
    "print(args.stats)\n",
    "print(args.punctuation)\n",
    "\n",
    "python main.py\n",
    "python main.py -s \n",
    "python main.py -s -u\n",
    "python main.py --stats -u\n",
    "python main.py --stats --use_special\n",
    "python main.py --help\n",
    "python main.py --min_length=4 --max_length=8\n",
    "\"\"\"\n",
    "print(\"argparse module\")"
   ]
  },
  {
   "cell_type": "markdown",
   "metadata": {},
   "source": [
    "# Working with csv module"
   ]
  },
  {
   "cell_type": "code",
   "execution_count": 29,
   "metadata": {},
   "outputs": [
    {
     "name": "stdout",
     "output_type": "stream",
     "text": [
      "csv module\n"
     ]
    }
   ],
   "source": [
    "\"\"\"\n",
    "===================\n",
    "READING OPERATION::\n",
    "open('file','rb') as f\n",
    "reader=csv.reader(f)   --> reads all rows as a         iterator of lists\n",
    "\n",
    "for row in reader:\n",
    "    print(row)\n",
    "\n",
    "->\n",
    "dict_reader=csv.DictReader(f,restval='missing',extrasaction='ignore')  -->reads all rows as iterator of OrderedDictionary, \\\n",
    "                                                       -> if any column value is missing,\\\n",
    "                                                     it substitutes 'missing' as part of \"restval\" parameter.\n",
    "                                                       -> if there is an extra column,\\\n",
    "                                                     it can be supressed by using \"extrasaction\" parameter\n",
    "\n",
    "for dict_row in dict_reader:\n",
    "    print(dict_row)\n",
    "\n",
    "\n",
    "===================\n",
    "WRITING OPERATION::\n",
    "open('file','wb') as f\n",
    "\n",
    "writer=csv.writer(f)   #in case of writer always provide the first writerow() with       list of headers\n",
    "writer.writerow(...)\n",
    "*\n",
    "dict_writer=csv.DictWriter(f,fieldnames=<list of header column names>)\n",
    "dict_writer.writeheader()  -->It will use the fieldnames variable of constructor to write the header \n",
    "\n",
    "writer.writerow(...)    -->writes row with     list\n",
    "writer.writerows(...)   -->writes all rows with      list of lists\n",
    "\n",
    "dict_writer.writerow(...)    -->writes row with   dictionary\n",
    "dict_writer.writerows(...)   -->writes multiple rows with    list of dictionaries \\\n",
    "                               Preferred style is :- \\\n",
    "                               [dict(zip([columns],x)) for x in rows] \n",
    "\n",
    "**If there is a missing value for a column in DictWriter.writerow/s operation, by default it writes:- blank\n",
    "If there is an extra column, then throws error\n",
    "\n",
    "\"\"\"\n",
    "print(\"csv module\")"
   ]
  },
  {
   "cell_type": "code",
   "execution_count": 30,
   "metadata": {
    "collapsed": true
   },
   "outputs": [],
   "source": [
    "import csv\n",
    "#TO-DO"
   ]
  },
  {
   "cell_type": "markdown",
   "metadata": {},
   "source": [
    "# Working with json module"
   ]
  },
  {
   "cell_type": "code",
   "execution_count": 31,
   "metadata": {},
   "outputs": [
    {
     "name": "stdout",
     "output_type": "stream",
     "text": [
      "json module\n"
     ]
    }
   ],
   "source": [
    "\"\"\"\n",
    "===================\n",
    "READING OPERATION::\n",
    "\n",
    "json.loads(json_formatted_string)  -> Takes a json string input and returns a python object(list of dictionaries)\n",
    "\n",
    "fp = open('file.json','wb') \n",
    "json.load(fp)     -> Takes a json file as input and returns a python object\n",
    "fp.close()\n",
    "\n",
    "\n",
    "===================\n",
    "WRITING OPERATION::\n",
    "\n",
    "json.dumps(rows,indent=2)          -> rows = list of dictionaries ,indent for pretty print \\\n",
    "                                  takes a string input(python object) and dumps a json formatted string (json object)\n",
    "\n",
    "fp = open('file.json','wb')         \n",
    "json.dump(rows,fp,indent=2)                 -> Takes python object and dumps it to a file ,'indent' kwarg for pretty print\n",
    "fp.close()\n",
    "\"\"\"\n",
    "print(\"json module\")"
   ]
  },
  {
   "cell_type": "code",
   "execution_count": 32,
   "metadata": {},
   "outputs": [
    {
     "name": "stdout",
     "output_type": "stream",
     "text": [
      "{\n",
      "  \"Courses\": [\n",
      "    {\n",
      "      \"Course-1\": {\n",
      "        \"course_id\": 1,\n",
      "        \"name\": \"Python\",\n",
      "        \"Teacher\": \"Python Rao\",\n",
      "        \"Rating\": 5\n",
      "      }\n",
      "    },\n",
      "    {\n",
      "      \"Course-2\": {\n",
      "        \"course_id\": 2,\n",
      "        \"name\": \"C++\",\n",
      "        \"Teacher\": \"Chellam Rao\",\n",
      "        \"Rating\": 4\n",
      "      }\n",
      "    },\n",
      "    {\n",
      "      \"Course-3\": {\n",
      "        \"course_id\": 3,\n",
      "        \"name\": \"Java\",\n",
      "        \"Teacher\": \"Java Rao\",\n",
      "        \"Rating\": 3\n",
      "      }\n",
      "    },\n",
      "    {\n",
      "      \"Course-4\": {\n",
      "        \"course_id\": 4,\n",
      "        \"name\": \"Unix\",\n",
      "        \"Teacher\": \"Unix Rao\",\n",
      "        \"Rating\": 2\n",
      "      }\n",
      "    }\n",
      "  ]\n",
      "}\n"
     ]
    }
   ],
   "source": [
    "import json\n",
    "master_list=[]\n",
    "course=dict()\n",
    "courses = ['Python','C++','Java','Unix']\n",
    "teachers = ['Python Rao','Chellam Rao','Java Rao','Unix Rao']\n",
    "ratings = [5,4,3,2]\n",
    "ids = [1,2,3,4]\n",
    "\n",
    "headers=['course_id','name','Teacher','Rating']\n",
    "\n",
    "for i,v in enumerate(zip(ids,courses,teachers,ratings)):\n",
    "    course['Course-' + str(i+1)] = dict(zip(headers,v))\n",
    "\n",
    "for i,v in  course.items():\n",
    "    master_list.append({i:v})\n",
    "\n",
    "Courses =dict()\n",
    "Courses['Courses'] = master_list\n",
    "json_dump = json.dumps(Courses,indent=2)\n",
    "print(json_dump)        # prints the json object"
   ]
  },
  {
   "cell_type": "markdown",
   "metadata": {},
   "source": [
    "# Working with xml files"
   ]
  },
  {
   "cell_type": "code",
   "execution_count": 33,
   "metadata": {
    "collapsed": true
   },
   "outputs": [],
   "source": [
    "#TO-DO"
   ]
  },
  {
   "cell_type": "markdown",
   "metadata": {},
   "source": [
    "# Pretty Print Data"
   ]
  },
  {
   "cell_type": "code",
   "execution_count": 34,
   "metadata": {
    "scrolled": false
   },
   "outputs": [
    {
     "name": "stdout",
     "output_type": "stream",
     "text": [
      "{'item-1': ['A', 'B', 'C', 'D', 'E', 'F', 'G', 'H'],\n",
      " 'item-2': [1, 2, 3, 4, 5, 6, 7, 8],\n",
      " 'item-3': (11, 12, 13, 14, 15, 16, 17, 18)}\n"
     ]
    }
   ],
   "source": [
    "#print(data)\n",
    "data ={\"item-1\":list('ABCDEFGH') ,\"item-2\":list(range(1,9)) ,\"item-3\":tuple(range(11,19))}\n",
    "from pprint import pprint as pp\n",
    "pp(data)\n"
   ]
  },
  {
   "cell_type": "code",
   "execution_count": 35,
   "metadata": {},
   "outputs": [
    {
     "name": "stdout",
     "output_type": "stream",
     "text": [
      "{\n",
      "  \"Courses\": [\n",
      "    {\n",
      "      \"Course-1\": {\n",
      "        \"course_id\": 1,\n",
      "        \"name\": \"Python\",\n",
      "        \"Teacher\": \"Python Rao\",\n",
      "        \"Rating\": 5\n",
      "      }\n",
      "    },\n",
      "    {\n",
      "      \"Course-2\": {\n",
      "        \"course_id\": 2,\n",
      "        \"name\": \"C++\",\n",
      "        \"Teacher\": \"Chellam Rao\",\n",
      "        \"Rating\": 4\n",
      "      }\n",
      "    },\n",
      "    {\n",
      "      \"Course-3\": {\n",
      "        \"course_id\": 3,\n",
      "        \"name\": \"Java\",\n",
      "        \"Teacher\": \"Java Rao\",\n",
      "        \"Rating\": 3\n",
      "      }\n",
      "    },\n",
      "    {\n",
      "      \"Course-4\": {\n",
      "        \"course_id\": 4,\n",
      "        \"name\": \"Unix\",\n",
      "        \"Teacher\": \"Unix Rao\",\n",
      "        \"Rating\": 2\n",
      "      }\n",
      "    }\n",
      "  ]\n",
      "}\n"
     ]
    }
   ],
   "source": [
    "#This is an example format of how we get data from APIs provided by different websites\n",
    "#list of dictionaires\n",
    "\n",
    "import json\n",
    "master_list=[]\n",
    "Course=dict()\n",
    "courses = ['Python','C++','Java','Unix']\n",
    "teachers = ['Python Rao','Chellam Rao','Java Rao','Unix Rao']\n",
    "ratings = [5,4,3,2]\n",
    "ids = [1,2,3,4]\n",
    "\n",
    "headers=['course_id','name','Teacher','Rating']\n",
    "\n",
    "for i,v in enumerate(zip(ids,courses,teachers,ratings)):\n",
    "    master_list.append(dict(zip(headers,v)))\n",
    "\n",
    "Course['Courses'] = master_list\n",
    "json_dump = json.dumps(Courses,indent=2)\n",
    "print(json_dump)        # prints the json object\n"
   ]
  }
 ],
 "metadata": {
  "kernelspec": {
   "display_name": "Python 3",
   "language": "python",
   "name": "python3"
  },
  "language_info": {
   "codemirror_mode": {
    "name": "ipython",
    "version": 3
   },
   "file_extension": ".py",
   "mimetype": "text/x-python",
   "name": "python",
   "nbconvert_exporter": "python",
   "pygments_lexer": "ipython3",
   "version": "3.6.1"
  }
 },
 "nbformat": 4,
 "nbformat_minor": 2
}
