{
 "cells": [
  {
   "cell_type": "code",
   "execution_count": 1,
   "metadata": {},
   "outputs": [
    {
     "name": "stdout",
     "output_type": "stream",
     "text": [
      "The Zen of Python, by Tim Peters\n",
      "\n",
      "Beautiful is better than ugly.\n",
      "Explicit is better than implicit.\n",
      "Simple is better than complex.\n",
      "Complex is better than complicated.\n",
      "Flat is better than nested.\n",
      "Sparse is better than dense.\n",
      "Readability counts.\n",
      "Special cases aren't special enough to break the rules.\n",
      "Although practicality beats purity.\n",
      "Errors should never pass silently.\n",
      "Unless explicitly silenced.\n",
      "In the face of ambiguity, refuse the temptation to guess.\n",
      "There should be one-- and preferably only one --obvious way to do it.\n",
      "Although that way may not be obvious at first unless you're Dutch.\n",
      "Now is better than never.\n",
      "Although never is often better than *right* now.\n",
      "If the implementation is hard to explain, it's a bad idea.\n",
      "If the implementation is easy to explain, it may be a good idea.\n",
      "Namespaces are one honking great idea -- let's do more of those!\n"
     ]
    }
   ],
   "source": [
    "#Zen of python\n",
    "import this"
   ]
  },
  {
   "cell_type": "code",
   "execution_count": null,
   "metadata": {
    "collapsed": true
   },
   "outputs": [],
   "source": []
  },
  {
   "cell_type": "markdown",
   "metadata": {},
   "source": [
    "# Working of map,filter and reduce (all 3 produce generator)"
   ]
  },
  {
   "cell_type": "code",
   "execution_count": 2,
   "metadata": {},
   "outputs": [
    {
     "data": {
      "text/plain": [
       "[1, 4, 9, 16, 25]"
      ]
     },
     "execution_count": 2,
     "metadata": {},
     "output_type": "execute_result"
    }
   ],
   "source": [
    "# map(function,iterable)    ->  map does lazy evaluation like generator. o/p is not produced until you iterate\n",
    "aL = [1,2,3,4,5]\n",
    "lsX = map(lambda x:x**2,aL)\n",
    "list(lsX)"
   ]
  },
  {
   "cell_type": "code",
   "execution_count": 3,
   "metadata": {},
   "outputs": [
    {
     "data": {
      "text/plain": [
       "[72, 105, 32, 72, 111, 119, 32, 97, 114, 101]"
      ]
     },
     "execution_count": 3,
     "metadata": {},
     "output_type": "execute_result"
    }
   ],
   "source": [
    "xx = map(ord,\"Hi How are\")\n",
    "list(xx)"
   ]
  },
  {
   "cell_type": "code",
   "execution_count": 4,
   "metadata": {},
   "outputs": [
    {
     "data": {
      "text/plain": [
       "[2, 4, 6, 8, 10]"
      ]
     },
     "execution_count": 4,
     "metadata": {},
     "output_type": "execute_result"
    }
   ],
   "source": [
    "# filter(function,iterable) --> filters all the values whose boolean value is True\n",
    "\n",
    "#evenX = filter( lambda x:'s' if x%2==0 else 'o',(x for x in range(1,11)) )   -->uncomment and check result\n",
    "\n",
    "evenX = filter( lambda x:x%2==0,(x for x in range(1,11)) ) \n",
    "list(evenX)"
   ]
  },
  {
   "cell_type": "code",
   "execution_count": 5,
   "metadata": {},
   "outputs": [
    {
     "data": {
      "text/plain": [
       "45"
      ]
     },
     "execution_count": 5,
     "metadata": {},
     "output_type": "execute_result"
    }
   ],
   "source": [
    "# reduce(function, iterable) --> takes the element one by one from iterable and perform the function\n",
    "\n",
    "from functools import reduce\n",
    "a=(1,2,3)\n",
    "b=(4,5,6)\n",
    "c=(7,8,9)\n",
    "sumX = reduce(lambda item1,item2 : item1 + item2, (*a,*b,*c) )  #example of unpacking a tuple\n",
    "sumX"
   ]
  },
  {
   "cell_type": "code",
   "execution_count": 6,
   "metadata": {
    "collapsed": true
   },
   "outputs": [
    {
     "data": {
      "text/plain": [
       "{'In': ['',\n",
       "  '#Zen of python\\nimport this',\n",
       "  '# map(function,iterable)    ->  map does lazy evaluation like generator. o/p is not produced until you iterate\\naL = [1,2,3,4,5]\\nlsX = map(lambda x:x**2,aL)\\nlist(lsX)',\n",
       "  'xx = map(ord,\"Hi How are\")\\nlist(xx)',\n",
       "  \"# filter(function,iterable) --> filters all the values whose boolean value is True\\n\\n#evenX = filter( lambda x:'s' if x%2==0 else 'o',(x for x in range(1,11)) )   -->uncomment and check result\\n\\nevenX = filter( lambda x:x%2==0,(x for x in range(1,11)) ) \\nlist(evenX)\",\n",
       "  '# reduce(function, iterable) --> takes the element one by one from iterable and perform the function\\n\\nfrom functools import reduce\\na=(1,2,3)\\nb=(4,5,6)\\nc=(7,8,9)\\nsumX = reduce(lambda item1,item2 : item1 + item2, (*a,*b,*c) )  #example of unpacking a tuple\\nsumX',\n",
       "  'locals() #a dictionary of all variables and their values in current namespace whereas dir() prints a list of all variables only'],\n",
       " 'Out': {2: [1, 4, 9, 16, 25],\n",
       "  3: [72, 105, 32, 72, 111, 119, 32, 97, 114, 101],\n",
       "  4: [2, 4, 6, 8, 10],\n",
       "  5: 45},\n",
       " '_': 45,\n",
       " '_2': [1, 4, 9, 16, 25],\n",
       " '_3': [72, 105, 32, 72, 111, 119, 32, 97, 114, 101],\n",
       " '_4': [2, 4, 6, 8, 10],\n",
       " '_5': 45,\n",
       " '__': [2, 4, 6, 8, 10],\n",
       " '___': [72, 105, 32, 72, 111, 119, 32, 97, 114, 101],\n",
       " '__builtin__': <module 'builtins' (built-in)>,\n",
       " '__builtins__': <module 'builtins' (built-in)>,\n",
       " '__doc__': 'Automatically created module for IPython interactive environment',\n",
       " '__loader__': None,\n",
       " '__name__': '__main__',\n",
       " '__package__': None,\n",
       " '__spec__': None,\n",
       " '_dh': ['C:\\\\Users\\\\amrikuma'],\n",
       " '_i': '# reduce(function, iterable) --> takes the element one by one from iterable and perform the function\\n\\nfrom functools import reduce\\na=(1,2,3)\\nb=(4,5,6)\\nc=(7,8,9)\\nsumX = reduce(lambda item1,item2 : item1 + item2, (*a,*b,*c) )  #example of unpacking a tuple\\nsumX',\n",
       " '_i1': '#Zen of python\\nimport this',\n",
       " '_i2': '# map(function,iterable)    ->  map does lazy evaluation like generator. o/p is not produced until you iterate\\naL = [1,2,3,4,5]\\nlsX = map(lambda x:x**2,aL)\\nlist(lsX)',\n",
       " '_i3': 'xx = map(ord,\"Hi How are\")\\nlist(xx)',\n",
       " '_i4': \"# filter(function,iterable) --> filters all the values whose boolean value is True\\n\\n#evenX = filter( lambda x:'s' if x%2==0 else 'o',(x for x in range(1,11)) )   -->uncomment and check result\\n\\nevenX = filter( lambda x:x%2==0,(x for x in range(1,11)) ) \\nlist(evenX)\",\n",
       " '_i5': '# reduce(function, iterable) --> takes the element one by one from iterable and perform the function\\n\\nfrom functools import reduce\\na=(1,2,3)\\nb=(4,5,6)\\nc=(7,8,9)\\nsumX = reduce(lambda item1,item2 : item1 + item2, (*a,*b,*c) )  #example of unpacking a tuple\\nsumX',\n",
       " '_i6': 'locals() #a dictionary of all variables and their values in current namespace whereas dir() prints a list of all variables only',\n",
       " '_ih': ['',\n",
       "  '#Zen of python\\nimport this',\n",
       "  '# map(function,iterable)    ->  map does lazy evaluation like generator. o/p is not produced until you iterate\\naL = [1,2,3,4,5]\\nlsX = map(lambda x:x**2,aL)\\nlist(lsX)',\n",
       "  'xx = map(ord,\"Hi How are\")\\nlist(xx)',\n",
       "  \"# filter(function,iterable) --> filters all the values whose boolean value is True\\n\\n#evenX = filter( lambda x:'s' if x%2==0 else 'o',(x for x in range(1,11)) )   -->uncomment and check result\\n\\nevenX = filter( lambda x:x%2==0,(x for x in range(1,11)) ) \\nlist(evenX)\",\n",
       "  '# reduce(function, iterable) --> takes the element one by one from iterable and perform the function\\n\\nfrom functools import reduce\\na=(1,2,3)\\nb=(4,5,6)\\nc=(7,8,9)\\nsumX = reduce(lambda item1,item2 : item1 + item2, (*a,*b,*c) )  #example of unpacking a tuple\\nsumX',\n",
       "  'locals() #a dictionary of all variables and their values in current namespace whereas dir() prints a list of all variables only'],\n",
       " '_ii': \"# filter(function,iterable) --> filters all the values whose boolean value is True\\n\\n#evenX = filter( lambda x:'s' if x%2==0 else 'o',(x for x in range(1,11)) )   -->uncomment and check result\\n\\nevenX = filter( lambda x:x%2==0,(x for x in range(1,11)) ) \\nlist(evenX)\",\n",
       " '_iii': 'xx = map(ord,\"Hi How are\")\\nlist(xx)',\n",
       " '_oh': {2: [1, 4, 9, 16, 25],\n",
       "  3: [72, 105, 32, 72, 111, 119, 32, 97, 114, 101],\n",
       "  4: [2, 4, 6, 8, 10],\n",
       "  5: 45},\n",
       " '_sh': <module 'IPython.core.shadowns' from 'C:\\\\Users\\\\amrikuma\\\\AppData\\\\Local\\\\Continuum\\\\Anaconda3\\\\lib\\\\site-packages\\\\IPython\\\\core\\\\shadowns.py'>,\n",
       " 'a': (1, 2, 3),\n",
       " 'aL': [1, 2, 3, 4, 5],\n",
       " 'b': (4, 5, 6),\n",
       " 'c': (7, 8, 9),\n",
       " 'evenX': <filter at 0x21eaa4be550>,\n",
       " 'exit': <IPython.core.autocall.ZMQExitAutocall at 0x21eaa3ec208>,\n",
       " 'get_ipython': <bound method InteractiveShell.get_ipython of <ipykernel.zmqshell.ZMQInteractiveShell object at 0x0000021EAA3721D0>>,\n",
       " 'lsX': <map at 0x21eaa4be5c0>,\n",
       " 'quit': <IPython.core.autocall.ZMQExitAutocall at 0x21eaa3ec208>,\n",
       " 'reduce': <function _functools.reduce>,\n",
       " 'sumX': 45,\n",
       " 'this': <module 'this' from 'C:\\\\Users\\\\amrikuma\\\\AppData\\\\Local\\\\Continuum\\\\Anaconda3\\\\lib\\\\this.py'>,\n",
       " 'xx': <map at 0x21eaa4be390>}"
      ]
     },
     "execution_count": 6,
     "metadata": {},
     "output_type": "execute_result"
    }
   ],
   "source": [
    "locals() #a dictionary of all variables and their values in current namespace whereas dir() prints a list of all variables only"
   ]
  },
  {
   "cell_type": "markdown",
   "metadata": {},
   "source": [
    "# Comprehensions in python (list / tuple/ dictionary comprehensions)"
   ]
  },
  {
   "cell_type": "code",
   "execution_count": 7,
   "metadata": {
    "collapsed": true
   },
   "outputs": [],
   "source": [
    "# epxr means a value , predicate means a condition\n",
    "\n",
    "#1 expr -- for \n",
    "#2 if_expr -- for  -- if if_predicate\n",
    "#3 if_expr -- if if_predicate -- else -- else_expr -- for \n",
    "#4 if_expr -- if if_predicate -- else -- else_if_expr -- if else_if_predicate -- else -- else_expr -- for \n",
    "#5 expr -- for -- for"
   ]
  },
  {
   "cell_type": "code",
   "execution_count": 8,
   "metadata": {},
   "outputs": [
    {
     "data": {
      "text/plain": [
       "[3, 6, 9, 12]"
      ]
     },
     "execution_count": 8,
     "metadata": {},
     "output_type": "execute_result"
    }
   ],
   "source": [
    "#Type #1 (for)\n",
    "type1 =[3*x for x in range(1,5)]  # [] bracket in comprehension creates a list ,() creates generator, {}creates set/dictionary\n",
    "type1"
   ]
  },
  {
   "cell_type": "code",
   "execution_count": 9,
   "metadata": {},
   "outputs": [
    {
     "data": {
      "text/plain": [
       "[2, 4, 6, 8, 10]"
      ]
     },
     "execution_count": 9,
     "metadata": {},
     "output_type": "execute_result"
    }
   ],
   "source": [
    "#Type #2 (if and for)\n",
    "type2 = [x for x in range(1,11) if x%2==0]\n",
    "type2"
   ]
  },
  {
   "cell_type": "code",
   "execution_count": 10,
   "metadata": {},
   "outputs": [
    {
     "data": {
      "text/plain": [
       "['Odd', 'Even', 'Odd', 'Even', 'Odd', 'Even', 'Odd', 'Even', 'Odd', 'Even']"
      ]
     },
     "execution_count": 10,
     "metadata": {},
     "output_type": "execute_result"
    }
   ],
   "source": [
    "#Type #3 (if,else and for)\n",
    "type3 = [\"Even\" if x%2==0 else \"Odd\" for x in range(1,11)]\n",
    "type3"
   ]
  },
  {
   "cell_type": "code",
   "execution_count": 11,
   "metadata": {},
   "outputs": [
    {
     "data": {
      "text/plain": [
       "['Special', 'Special', 'Odd', 'Even', 'Odd', 'Even', 'Odd', 'Even']"
      ]
     },
     "execution_count": 11,
     "metadata": {},
     "output_type": "execute_result"
    }
   ],
   "source": [
    "#Type #4 (if,else if, else and for)\n",
    "type4 = [\"Special\" if x in (1,2) else \"Even\" if x%2==0 else \"Odd\" for x in range(1,9)]\n",
    "type4"
   ]
  },
  {
   "cell_type": "code",
   "execution_count": 12,
   "metadata": {},
   "outputs": [
    {
     "data": {
      "text/plain": [
       "[(1, 1),\n",
       " (1, 2),\n",
       " (1, 3),\n",
       " (2, 1),\n",
       " (2, 2),\n",
       " (2, 3),\n",
       " (3, 1),\n",
       " (3, 2),\n",
       " (3, 3),\n",
       " (4, 1),\n",
       " (4, 2),\n",
       " (4, 3)]"
      ]
     },
     "execution_count": 12,
     "metadata": {},
     "output_type": "execute_result"
    }
   ],
   "source": [
    "#Type #5 (nested for)\n",
    "type5 =[(x,y) for x in range(1,5) for y in range(1,4)]  # x is outer for and y is inner for\n",
    "type5"
   ]
  },
  {
   "cell_type": "code",
   "execution_count": 13,
   "metadata": {},
   "outputs": [
    {
     "data": {
      "text/plain": [
       "[[1], [1, 2], [1, 2, 3], [1, 2, 3, 4], [1, 2, 3, 4, 5]]"
      ]
     },
     "execution_count": 13,
     "metadata": {},
     "output_type": "execute_result"
    }
   ],
   "source": [
    "#Nested comprehension  -> For a list of lists using comprehension\n",
    "#nesL=[ [y for y in range(1,x)] for x in range(1,6) if x>1 ]\n",
    "nesL=[ [y for y in range(1,x)] for x in range(2,7)]\n",
    "nesL"
   ]
  },
  {
   "cell_type": "markdown",
   "metadata": {},
   "source": [
    "# Merging and appending Dictionaries"
   ]
  },
  {
   "cell_type": "code",
   "execution_count": 14,
   "metadata": {
    "collapsed": true
   },
   "outputs": [],
   "source": [
    "z1=dict((x,x**2) for x in range(1,4))\n",
    "z2=dict((x,x**3) for x in range(4,7))\n",
    "z3=dict((x,x**4) for x in range(7,10))"
   ]
  },
  {
   "cell_type": "code",
   "execution_count": 15,
   "metadata": {},
   "outputs": [
    {
     "data": {
      "text/plain": [
       "{1: 1, 2: 4, 3: 9, 4: 64, 5: 125, 6: 216, 7: 2401, 8: 4096, 9: 6561}"
      ]
     },
     "execution_count": 15,
     "metadata": {},
     "output_type": "execute_result"
    }
   ],
   "source": [
    "z4={**z1,**z2,**z3} #dictionary merge using dictionary unpacking\n",
    "\n",
    "z4"
   ]
  },
  {
   "cell_type": "code",
   "execution_count": 16,
   "metadata": {},
   "outputs": [
    {
     "data": {
      "text/plain": [
       "{1: 3, 2: 6, 3: 9, 4: 12}"
      ]
     },
     "execution_count": 16,
     "metadata": {},
     "output_type": "execute_result"
    }
   ],
   "source": [
    "z5={x:3*x for x in range(1,5)}\n",
    "z6={x:2*x for x in range(5,10)}\n",
    "z5"
   ]
  },
  {
   "cell_type": "code",
   "execution_count": 17,
   "metadata": {},
   "outputs": [
    {
     "data": {
      "text/plain": [
       "{1: 3, 2: 6, 3: 9, 4: 12, 5: 10, 6: 12, 7: 14, 8: 16, 9: 18}"
      ]
     },
     "execution_count": 17,
     "metadata": {},
     "output_type": "execute_result"
    }
   ],
   "source": [
    "z5.update(z6)\n",
    "#after appending z6 dictionary\n",
    "z5"
   ]
  },
  {
   "cell_type": "markdown",
   "metadata": {},
   "source": [
    "# Using Step to reverse a sequence . Also an e.g to implement that with lambda"
   ]
  },
  {
   "cell_type": "code",
   "execution_count": 18,
   "metadata": {},
   "outputs": [
    {
     "data": {
      "text/plain": [
       "(8,)"
      ]
     },
     "execution_count": 18,
     "metadata": {},
     "output_type": "execute_result"
    }
   ],
   "source": [
    "xt=(1,2,3,4,5,6,7,8)\n",
    "#xt[::-1]   3rd argument is step, when negative goes reverse\n",
    "#xt[::-2]\n",
    "#xt[::-3]\n",
    "xt[::-10]"
   ]
  },
  {
   "cell_type": "code",
   "execution_count": 19,
   "metadata": {},
   "outputs": [
    {
     "data": {
      "text/plain": [
       "(8, 7, 6, 5, 4, 3, 2, 1)"
      ]
     },
     "execution_count": 19,
     "metadata": {},
     "output_type": "execute_result"
    }
   ],
   "source": [
    "rev = lambda x:x[::-1]\n",
    "rev(xt)"
   ]
  },
  {
   "cell_type": "markdown",
   "metadata": {},
   "source": [
    "# Sorting by first name and last name"
   ]
  },
  {
   "cell_type": "code",
   "execution_count": 20,
   "metadata": {
    "collapsed": true
   },
   "outputs": [],
   "source": [
    "names=['Dillip Nayak','Tom Roe','Samiya Ans','Amrit Kumar','Ronn Swa']"
   ]
  },
  {
   "cell_type": "code",
   "execution_count": 21,
   "metadata": {},
   "outputs": [
    {
     "data": {
      "text/plain": [
       "['Amrit Kumar', 'Dillip Nayak', 'Ronn Swa', 'Samiya Ans', 'Tom Roe']"
      ]
     },
     "execution_count": 21,
     "metadata": {},
     "output_type": "execute_result"
    }
   ],
   "source": [
    "names.sort()     #normal sort\n",
    "names"
   ]
  },
  {
   "cell_type": "code",
   "execution_count": 22,
   "metadata": {},
   "outputs": [
    {
     "data": {
      "text/plain": [
       "['Samiya Ans', 'Amrit Kumar', 'Dillip Nayak', 'Tom Roe', 'Ronn Swa']"
      ]
     },
     "execution_count": 22,
     "metadata": {},
     "output_type": "execute_result"
    }
   ],
   "source": [
    "names.sort(key=lambda x:x.split()[-1])   #sort names by last name\n",
    "names"
   ]
  },
  {
   "cell_type": "markdown",
   "metadata": {},
   "source": [
    "# Functions vs Generator and their performance and profiling"
   ]
  },
  {
   "cell_type": "code",
   "execution_count": 23,
   "metadata": {
    "collapsed": true
   },
   "outputs": [],
   "source": [
    "import cProfile\n",
    "#cProfile.run( <expression in string format> )\n",
    "#calculates total time taken and function calls\n",
    "\n",
    "import sys\n",
    "#sys.getsizeof( <python object/variable> )\n",
    "#calculates total memory taken by a python object\n",
    "\n",
    "#Using above two to compare performance and profiling of generator compared to function\n",
    "#Time is an issue, dont use generator ... Memory/Resource is an issue, use generator"
   ]
  },
  {
   "cell_type": "code",
   "execution_count": 24,
   "metadata": {
    "collapsed": true
   },
   "outputs": [],
   "source": [
    "#function to find fibonnaci series till 10^5\n",
    "def oldFib():\n",
    "    data=[]\n",
    "    next,current = 1,0\n",
    "    while next < 100000:\n",
    "        data.append(next)\n",
    "        next,current=next+current,next\n",
    "    return data\n",
    "\n",
    "#generator to find fibonnaci series till 10^5\n",
    "def fib():\n",
    "    next,curr=1,0\n",
    "    while True:\n",
    "        next,curr=next+curr,next\n",
    "        yield next"
   ]
  },
  {
   "cell_type": "code",
   "execution_count": 25,
   "metadata": {},
   "outputs": [
    {
     "data": {
      "text/plain": [
       "88"
      ]
     },
     "execution_count": 25,
     "metadata": {},
     "output_type": "execute_result"
    }
   ],
   "source": [
    "sys.getsizeof(fib())        #calulate the size of yielded object of fibbonaci generator i.e int"
   ]
  },
  {
   "cell_type": "code",
   "execution_count": 26,
   "metadata": {},
   "outputs": [
    {
     "data": {
      "text/plain": [
       "264"
      ]
     },
     "execution_count": 26,
     "metadata": {},
     "output_type": "execute_result"
    }
   ],
   "source": [
    "sys.getsizeof(oldFib())     #calulate the size of returned object of fibbonaci function i.e list"
   ]
  },
  {
   "cell_type": "code",
   "execution_count": 27,
   "metadata": {
    "collapsed": true
   },
   "outputs": [],
   "source": [
    "gen=fib()"
   ]
  },
  {
   "cell_type": "code",
   "execution_count": 28,
   "metadata": {},
   "outputs": [
    {
     "data": {
      "text/plain": [
       "1"
      ]
     },
     "execution_count": 28,
     "metadata": {},
     "output_type": "execute_result"
    }
   ],
   "source": [
    "next(gen)      # run this cell multiple times to generate the next fibbonaci number"
   ]
  },
  {
   "cell_type": "code",
   "execution_count": 29,
   "metadata": {
    "collapsed": true
   },
   "outputs": [],
   "source": [
    "#another generator function to filter the odd fibbo numbers\n",
    "def odds(seq):\n",
    "    for n in seq:\n",
    "        if n%2==1:\n",
    "            yield n"
   ]
  },
  {
   "cell_type": "code",
   "execution_count": 30,
   "metadata": {},
   "outputs": [
    {
     "name": "stdout",
     "output_type": "stream",
     "text": [
      "1 ,3 ,5 ,13 ,21 ,55 ,89 ,233 ,377 ,987 ,1597 ,4181 ,6765 ,17711 ,28657 ,75025 ,"
     ]
    }
   ],
   "source": [
    "#print the odd fibbonaci numbers below 10^5\n",
    "def calcOddFib():\n",
    "    for f in odds(fib()):\n",
    "        if f > 100000:\n",
    "            break\n",
    "        print(f,end=' ,')\n",
    "\n",
    "calcOddFib()"
   ]
  },
  {
   "cell_type": "code",
   "execution_count": 31,
   "metadata": {},
   "outputs": [
    {
     "name": "stdout",
     "output_type": "stream",
     "text": [
      "         29 function calls in 0.000 seconds\n",
      "\n",
      "   Ordered by: standard name\n",
      "\n",
      "   ncalls  tottime  percall  cumtime  percall filename:lineno(function)\n",
      "       26    0.000    0.000    0.000    0.000 <ipython-input-24-8f40b0d8f28c>:11(fib)\n",
      "        1    0.000    0.000    0.000    0.000 <string>:1(<module>)\n",
      "        1    0.000    0.000    0.000    0.000 {built-in method builtins.exec}\n",
      "        1    0.000    0.000    0.000    0.000 {method 'disable' of '_lsprof.Profiler' objects}\n",
      "\n",
      "\n"
     ]
    }
   ],
   "source": [
    "cProfile.run(\"\"\"for f in fib():\n",
    "    if f > 100000:\n",
    "        break\"\"\")"
   ]
  },
  {
   "cell_type": "code",
   "execution_count": 32,
   "metadata": {},
   "outputs": [
    {
     "name": "stdout",
     "output_type": "stream",
     "text": [
      "         29 function calls in 0.000 seconds\n",
      "\n",
      "   Ordered by: standard name\n",
      "\n",
      "   ncalls  tottime  percall  cumtime  percall filename:lineno(function)\n",
      "        1    0.000    0.000    0.000    0.000 <ipython-input-24-8f40b0d8f28c>:2(oldFib)\n",
      "        1    0.000    0.000    0.000    0.000 <string>:1(<module>)\n",
      "        1    0.000    0.000    0.000    0.000 {built-in method builtins.exec}\n",
      "       25    0.000    0.000    0.000    0.000 {method 'append' of 'list' objects}\n",
      "        1    0.000    0.000    0.000    0.000 {method 'disable' of '_lsprof.Profiler' objects}\n",
      "\n",
      "\n"
     ]
    }
   ],
   "source": [
    "cProfile.run(\"oldFib()\")"
   ]
  },
  {
   "cell_type": "code",
   "execution_count": 33,
   "metadata": {},
   "outputs": [
    {
     "name": "stdout",
     "output_type": "stream",
     "text": [
      "1 ,3 ,5 ,13 ,21 ,55 ,89 ,233 ,377 ,987 ,1597 ,4181 ,6765 ,17711 ,28657 ,75025 ,         455 function calls in 0.001 seconds\n",
      "\n",
      "   Ordered by: standard name\n",
      "\n",
      "   ncalls  tottime  percall  cumtime  percall filename:lineno(function)\n",
      "       26    0.000    0.000    0.000    0.000 <ipython-input-24-8f40b0d8f28c>:11(fib)\n",
      "       18    0.000    0.000    0.000    0.000 <ipython-input-29-01a0e487945c>:2(odds)\n",
      "        1    0.000    0.000    0.001    0.001 <ipython-input-30-84641440fb72>:2(calcOddFib)\n",
      "        1    0.000    0.000    0.001    0.001 <string>:1(<module>)\n",
      "       33    0.000    0.000    0.001    0.000 iostream.py:180(schedule)\n",
      "       32    0.000    0.000    0.000    0.000 iostream.py:284(_is_master_process)\n",
      "       32    0.000    0.000    0.000    0.000 iostream.py:297(_schedule_flush)\n",
      "       32    0.000    0.000    0.001    0.000 iostream.py:342(write)\n",
      "       33    0.000    0.000    0.000    0.000 iostream.py:87(_event_pipe)\n",
      "       33    0.000    0.000    0.000    0.000 threading.py:1062(_wait_for_tstate_lock)\n",
      "       33    0.000    0.000    0.000    0.000 threading.py:1104(is_alive)\n",
      "       33    0.000    0.000    0.000    0.000 threading.py:506(is_set)\n",
      "        1    0.000    0.000    0.001    0.001 {built-in method builtins.exec}\n",
      "       32    0.000    0.000    0.000    0.000 {built-in method builtins.isinstance}\n",
      "       16    0.000    0.000    0.001    0.000 {built-in method builtins.print}\n",
      "       32    0.000    0.000    0.000    0.000 {built-in method nt.getpid}\n",
      "       33    0.000    0.000    0.000    0.000 {built-in method nt.urandom}\n",
      "       33    0.000    0.000    0.000    0.000 {method 'acquire' of '_thread.lock' objects}\n",
      "        1    0.000    0.000    0.000    0.000 {method 'disable' of '_lsprof.Profiler' objects}\n",
      "\n",
      "\n"
     ]
    }
   ],
   "source": [
    "cProfile.run(\"calcOddFib()\")"
   ]
  },
  {
   "cell_type": "code",
   "execution_count": 34,
   "metadata": {
    "collapsed": true
   },
   "outputs": [],
   "source": [
    "nums_squared_lc = [i * 2 for i in range(10000000)]\n",
    "nums_squared_gc = (i ** 2 for i in range(10000000))"
   ]
  },
  {
   "cell_type": "code",
   "execution_count": 35,
   "metadata": {},
   "outputs": [
    {
     "data": {
      "text/plain": [
       "81528056"
      ]
     },
     "execution_count": 35,
     "metadata": {},
     "output_type": "execute_result"
    }
   ],
   "source": [
    "sys.getsizeof(nums_squared_lc)       #more memory for function"
   ]
  },
  {
   "cell_type": "code",
   "execution_count": 36,
   "metadata": {
    "scrolled": true
   },
   "outputs": [
    {
     "data": {
      "text/plain": [
       "88"
      ]
     },
     "execution_count": 36,
     "metadata": {},
     "output_type": "execute_result"
    }
   ],
   "source": [
    "sys.getsizeof(nums_squared_gc)       #less memory for generator"
   ]
  },
  {
   "cell_type": "code",
   "execution_count": 37,
   "metadata": {
    "scrolled": false
   },
   "outputs": [
    {
     "name": "stdout",
     "output_type": "stream",
     "text": [
      "         5 function calls in 2.795 seconds\n",
      "\n",
      "   Ordered by: standard name\n",
      "\n",
      "   ncalls  tottime  percall  cumtime  percall filename:lineno(function)\n",
      "        1    1.925    1.925    1.925    1.925 <string>:1(<listcomp>)\n",
      "        1    0.259    0.259    2.795    2.795 <string>:1(<module>)\n",
      "        1    0.000    0.000    2.795    2.795 {built-in method builtins.exec}\n",
      "        1    0.612    0.612    0.612    0.612 {built-in method builtins.sum}\n",
      "        1    0.000    0.000    0.000    0.000 {method 'disable' of '_lsprof.Profiler' objects}\n",
      "\n",
      "\n"
     ]
    }
   ],
   "source": [
    "cProfile.run(\"sum( [i * 2 for i in range(10000000)] )\")   #less time with list/function"
   ]
  },
  {
   "cell_type": "code",
   "execution_count": 38,
   "metadata": {
    "scrolled": false
   },
   "outputs": [
    {
     "name": "stdout",
     "output_type": "stream",
     "text": [
      "         10000005 function calls in 9.565 seconds\n",
      "\n",
      "   Ordered by: standard name\n",
      "\n",
      "   ncalls  tottime  percall  cumtime  percall filename:lineno(function)\n",
      " 10000001    7.657    0.000    7.657    0.000 <string>:1(<genexpr>)\n",
      "        1    0.000    0.000    9.565    9.565 <string>:1(<module>)\n",
      "        1    0.000    0.000    9.565    9.565 {built-in method builtins.exec}\n",
      "        1    1.909    1.909    9.565    9.565 {built-in method builtins.sum}\n",
      "        1    0.000    0.000    0.000    0.000 {method 'disable' of '_lsprof.Profiler' objects}\n",
      "\n",
      "\n"
     ]
    }
   ],
   "source": [
    "cProfile.run(\"sum( (i ** 2 for i in range(10000000)) )\")   #more time with generator "
   ]
  },
  {
   "cell_type": "markdown",
   "metadata": {},
   "source": [
    "# LEGB scoping of python"
   ]
  },
  {
   "cell_type": "code",
   "execution_count": 39,
   "metadata": {},
   "outputs": [
    {
     "name": "stdout",
     "output_type": "stream",
     "text": [
      "1\n",
      "3\n",
      "1\n"
     ]
    }
   ],
   "source": [
    "#LEGB --> scope Local > Enclosing > Global > Builtin\n",
    "\n",
    "x=1                          #Global x => accessed and modified by global keyword\n",
    "print(x)\n",
    "\n",
    "def fn():\n",
    "    x=3                      #Enclosing x => accessed and modified by nonlocal keyword\n",
    "    def fn2():\n",
    "        #global x\n",
    "        #nonlocal x\n",
    "        #x=32                #local x\n",
    "        print(x)\n",
    "    fn2()\n",
    "\n",
    "fn()\n",
    "print(x)"
   ]
  },
  {
   "cell_type": "markdown",
   "metadata": {},
   "source": [
    "# Function use pass by reference"
   ]
  },
  {
   "cell_type": "code",
   "execution_count": 40,
   "metadata": {},
   "outputs": [
    {
     "name": "stdout",
     "output_type": "stream",
     "text": [
      "[1, 2, 3, 4]\n",
      "[1, 2, 3, 7]\n"
     ]
    }
   ],
   "source": [
    "#pass by reference in python. That is why it is always preferred to pass immutable datatypes as argument to function\n",
    "#the variable xl changes after function call as list is a mutable datatype\n",
    "\n",
    "xl=[1,2,3,4]\n",
    "print(xl)\n",
    "\n",
    "def fn(y):\n",
    "    y[3]=7         #changes the outer variable xl\n",
    "    y=[1,2,3,9]    #Treated as a local variable\n",
    "    \n",
    "fn(xl)\n",
    "print(xl)"
   ]
  },
  {
   "cell_type": "code",
   "execution_count": 41,
   "metadata": {},
   "outputs": [
    {
     "name": "stdout",
     "output_type": "stream",
     "text": [
      "(1, 2, 3, 4)\n",
      "(1, 2, 3, 4)\n"
     ]
    }
   ],
   "source": [
    "#pass by reference in python. That is why it is always preferred to pass immutable datatypes as argument to function\n",
    "#the variable yt doesn't change after function call as tuple is a immutable datatype\n",
    "\n",
    "yt=(1,2,3,4)\n",
    "print(yt)\n",
    "\n",
    "def fn(y):\n",
    "    #y[3]=7   #element manipulation is not supported on immutable datatypes. Entire sequence has to be changed.     \n",
    "    y=(1,2,3,7)  #y will be treated as a local variable to function unaffecting the outer variable yt\n",
    "    \n",
    "fn(yt)\n",
    "print(yt)"
   ]
  },
  {
   "cell_type": "markdown",
   "metadata": {},
   "source": [
    "# Encode to Bytes and Decode to String"
   ]
  },
  {
   "cell_type": "code",
   "execution_count": 42,
   "metadata": {
    "collapsed": true
   },
   "outputs": [],
   "source": [
    "k=\"amrit\"\n",
    "en=k.encode('utf-8')            #utf-8 encode to bytes\n",
    "dec = en.decode('utf-8')        #decode to string"
   ]
  },
  {
   "cell_type": "code",
   "execution_count": 43,
   "metadata": {},
   "outputs": [
    {
     "name": "stdout",
     "output_type": "stream",
     "text": [
      "b'amrit'\n"
     ]
    },
    {
     "data": {
      "text/plain": [
       "bytes"
      ]
     },
     "execution_count": 43,
     "metadata": {},
     "output_type": "execute_result"
    }
   ],
   "source": [
    "print(en)\n",
    "type(en)"
   ]
  },
  {
   "cell_type": "code",
   "execution_count": 44,
   "metadata": {
    "scrolled": true
   },
   "outputs": [
    {
     "name": "stdout",
     "output_type": "stream",
     "text": [
      "amrit\n"
     ]
    },
    {
     "data": {
      "text/plain": [
       "str"
      ]
     },
     "execution_count": 44,
     "metadata": {},
     "output_type": "execute_result"
    }
   ],
   "source": [
    "print(dec)\n",
    "type(dec)"
   ]
  },
  {
   "cell_type": "markdown",
   "metadata": {},
   "source": [
    "# Significance of  dunder call , callable()"
   ]
  },
  {
   "cell_type": "code",
   "execution_count": 45,
   "metadata": {},
   "outputs": [
    {
     "data": {
      "text/plain": [
       "True"
      ]
     },
     "execution_count": 45,
     "metadata": {},
     "output_type": "execute_result"
    }
   ],
   "source": [
    "list_instance=list(\"phone\")    #we create an object of list class as list is callable ,as it has __init__ member function\n",
    "\n",
    "callable(list)                 #we can do list()"
   ]
  },
  {
   "cell_type": "code",
   "execution_count": 46,
   "metadata": {},
   "outputs": [
    {
     "data": {
      "text/plain": [
       "False"
      ]
     },
     "execution_count": 46,
     "metadata": {},
     "output_type": "execute_result"
    }
   ],
   "source": [
    "callable(list_instance)     # we cannot do list_instance() .By default instance is not callable"
   ]
  },
  {
   "cell_type": "code",
   "execution_count": 47,
   "metadata": {},
   "outputs": [
    {
     "data": {
      "text/plain": [
       "False"
      ]
     },
     "execution_count": 47,
     "metadata": {},
     "output_type": "execute_result"
    }
   ],
   "source": [
    "'__call__' in dir(list)        # list is a built-in class and it's instance is not callable\n",
    "                # if __call__ is implemented in list class, then instance of list will be callable"
   ]
  },
  {
   "cell_type": "code",
   "execution_count": 48,
   "metadata": {
    "collapsed": true
   },
   "outputs": [],
   "source": [
    "#By-default objects are callable. __init__ gets invoked when we create an object of a class\n",
    "#Similary we can make an instance callable (i.e created from our defined class Object) by defining the __call__ method in class\n",
    "\n",
    "import socket\n",
    "\n",
    "class Resolve:\n",
    "    def __init__(self):\n",
    "        self._cache = {}\n",
    "        \n",
    "    def __call__(self,host):\n",
    "        if host not in self._cache.keys():\n",
    "            self._cache[host] = socket.gethostbyname(host)\n",
    "            \n",
    "        return self._cache[host]\n",
    "    \n",
    "myResolve = Resolve()       #shows callable object"
   ]
  },
  {
   "cell_type": "code",
   "execution_count": 49,
   "metadata": {},
   "outputs": [
    {
     "data": {
      "text/plain": [
       "'13.32.37.137'"
      ]
     },
     "execution_count": 49,
     "metadata": {},
     "output_type": "execute_result"
    }
   ],
   "source": [
    "myResolve('www.amazon.com')     # calling an instance like a function"
   ]
  },
  {
   "cell_type": "code",
   "execution_count": 50,
   "metadata": {
    "scrolled": false
   },
   "outputs": [
    {
     "data": {
      "text/plain": [
       "'142.250.182.4'"
      ]
     },
     "execution_count": 50,
     "metadata": {},
     "output_type": "execute_result"
    }
   ],
   "source": [
    "myResolve('www.google.com')     # calling an instance like a function"
   ]
  },
  {
   "cell_type": "markdown",
   "metadata": {},
   "source": [
    "# usage of dir and help"
   ]
  },
  {
   "cell_type": "code",
   "execution_count": 51,
   "metadata": {},
   "outputs": [
    {
     "name": "stdout",
     "output_type": "stream",
     "text": [
      "Help on built-in function dir in module builtins:\n",
      "\n",
      "dir(...)\n",
      "    dir([object]) -> list of strings\n",
      "    \n",
      "    If called without an argument, return the names in the current scope.\n",
      "    Else, return an alphabetized list of names comprising (some of) the attributes\n",
      "    of the given object, and of attributes reachable from it.\n",
      "    If the object supplies a method named __dir__, it will be used; otherwise\n",
      "    the default dir() logic is used and returns:\n",
      "      for a module object: the module's attributes.\n",
      "      for a class object:  its attributes, and recursively the attributes\n",
      "        of its bases.\n",
      "      for any other object: its attributes, its class's attributes, and\n",
      "        recursively the attributes of its class's base classes.\n",
      "\n"
     ]
    }
   ],
   "source": [
    "help(dir)"
   ]
  },
  {
   "cell_type": "code",
   "execution_count": 52,
   "metadata": {},
   "outputs": [
    {
     "data": {
      "text/plain": [
       "'In,Out,Resolve,_,_10,_11,_12,_13,_15,_16,_17,_18,_19,_2,_21,_22,_25,_26,_28,_3,_35,_36,_4,_43,_44,_45,_46,_47,_49,_5,_50,_6,_8,_9,__,___,__builtin__,__builtins__,__doc__,__loader__,__name__,__package__,__spec__,_dh,_i,_i1,_i10,_i11,_i12,_i13,_i14,_i15,_i16,_i17,_i18,_i19,_i2,_i20,_i21,_i22,_i23,_i24,_i25,_i26,_i27,_i28,_i29,_i3,_i30,_i31,_i32,_i33,_i34,_i35,_i36,_i37,_i38,_i39,_i4,_i40,_i41,_i42,_i43,_i44,_i45,_i46,_i47,_i48,_i49,_i5,_i50,_i51,_i52,_i6,_i7,_i8,_i9,_ih,_ii,_iii,_oh,_sh,a,aL,b,c,cProfile,calcOddFib,dec,en,evenX,exit,f,fib,fn,gen,get_ipython,k,list_instance,lsX,myResolve,names,nesL,nums_squared_gc,nums_squared_lc,odds,oldFib,quit,reduce,rev,socket,sumX,sys,this,type1,type2,type3,type4,type5,x,xl,xt,xx,yt,z1,z2,z3,z4,z5,z6'"
      ]
     },
     "execution_count": 52,
     "metadata": {},
     "output_type": "execute_result"
    }
   ],
   "source": [
    "#dir() says what all are present/imported in current namespace\n",
    "\",\".join(dir())"
   ]
  },
  {
   "cell_type": "code",
   "execution_count": 53,
   "metadata": {},
   "outputs": [
    {
     "data": {
      "text/plain": [
       "'AF_APPLETALK,AF_DECnet,AF_INET,AF_INET6,AF_IPX,AF_IRDA,AF_SNA,AF_UNSPEC,AI_ADDRCONFIG,AI_ALL,AI_CANONNAME,AI_NUMERICHOST,AI_NUMERICSERV,AI_PASSIVE,AI_V4MAPPED,AddressFamily,AddressInfo,CAPI,EAGAIN,EAI_AGAIN,EAI_BADFLAGS,EAI_FAIL,EAI_FAMILY,EAI_MEMORY,EAI_NODATA,EAI_NONAME,EAI_SERVICE,EAI_SOCKTYPE,EBADF,EWOULDBLOCK,INADDR_ALLHOSTS_GROUP,INADDR_ANY,INADDR_BROADCAST,INADDR_LOOPBACK,INADDR_MAX_LOCAL_GROUP,INADDR_NONE,INADDR_UNSPEC_GROUP,IPPORT_RESERVED,IPPORT_USERRESERVED,IPPROTO_ICMP,IPPROTO_IP,IPPROTO_RAW,IPPROTO_TCP,IPPROTO_UDP,IPV6_CHECKSUM,IPV6_DONTFRAG,IPV6_HOPLIMIT,IPV6_HOPOPTS,IPV6_JOIN_GROUP,IPV6_LEAVE_GROUP,IPV6_MULTICAST_HOPS,IPV6_MULTICAST_IF,IPV6_MULTICAST_LOOP,IPV6_PKTINFO,IPV6_RECVRTHDR,IPV6_RECVTCLASS,IPV6_RTHDR,IPV6_TCLASS,IPV6_UNICAST_HOPS,IPV6_V6ONLY,IP_ADD_MEMBERSHIP,IP_DROP_MEMBERSHIP,IP_HDRINCL,IP_MULTICAST_IF,IP_MULTICAST_LOOP,IP_MULTICAST_TTL,IP_OPTIONS,IP_RECVDSTADDR,IP_TOS,IP_TTL,IntEnum,IntFlag,MSG_BCAST,MSG_CTRUNC,MSG_DONTROUTE,MSG_MCAST,MSG_OOB,MSG_PEEK,MSG_TRUNC,MSG_WAITALL,MsgFlag,NI_DGRAM,NI_MAXHOST,NI_MAXSERV,NI_NAMEREQD,NI_NOFQDN,NI_NUMERICHOST,NI_NUMERICSERV,RCVALL_MAX,RCVALL_OFF,RCVALL_ON,RCVALL_SOCKETLEVELONLY,SHUT_RD,SHUT_RDWR,SHUT_WR,SIO_KEEPALIVE_VALS,SIO_LOOPBACK_FAST_PATH,SIO_RCVALL,SOCK_DGRAM,SOCK_RAW,SOCK_RDM,SOCK_SEQPACKET,SOCK_STREAM,SOL_IP,SOL_SOCKET,SOL_TCP,SOL_UDP,SOMAXCONN,SO_ACCEPTCONN,SO_BROADCAST,SO_DEBUG,SO_DONTROUTE,SO_ERROR,SO_EXCLUSIVEADDRUSE,SO_KEEPALIVE,SO_LINGER,SO_OOBINLINE,SO_RCVBUF,SO_RCVLOWAT,SO_RCVTIMEO,SO_REUSEADDR,SO_SNDBUF,SO_SNDLOWAT,SO_SNDTIMEO,SO_TYPE,SO_USELOOPBACK,SocketIO,SocketKind,SocketType,TCP_MAXSEG,TCP_NODELAY,_GLOBAL_DEFAULT_TIMEOUT,_GiveupOnSendfile,_LOCALHOST,_LOCALHOST_V6,__all__,__builtins__,__cached__,__doc__,__file__,__loader__,__name__,__package__,__spec__,_blocking_errnos,_intenum_converter,_realsocket,_socket,create_connection,dup,errno,error,errorTab,fromfd,fromshare,gaierror,getaddrinfo,getdefaulttimeout,getfqdn,gethostbyaddr,gethostbyname,gethostbyname_ex,gethostname,getnameinfo,getprotobyname,getservbyname,getservbyport,has_ipv6,herror,htonl,htons,inet_aton,inet_ntoa,inet_ntop,inet_pton,io,ntohl,ntohs,os,selectors,setdefaulttimeout,socket,socketpair,sys,timeout'"
      ]
     },
     "execution_count": 53,
     "metadata": {},
     "output_type": "execute_result"
    }
   ],
   "source": [
    "# Returns what all are present in socket module\n",
    "\",\".join(dir(socket))"
   ]
  },
  {
   "cell_type": "markdown",
   "metadata": {},
   "source": [
    "# eval vs str vs repr"
   ]
  },
  {
   "cell_type": "code",
   "execution_count": 54,
   "metadata": {},
   "outputs": [
    {
     "data": {
      "text/plain": [
       "{1: 1, 2: 4, 3: 9}"
      ]
     },
     "execution_count": 54,
     "metadata": {},
     "output_type": "execute_result"
    }
   ],
   "source": [
    "# eval  -> the value of z1 variable in current namespace . It prints the __repr__ value of variable\n",
    "eval(\"z1\")"
   ]
  },
  {
   "cell_type": "code",
   "execution_count": 55,
   "metadata": {
    "collapsed": true
   },
   "outputs": [],
   "source": [
    "class ReprVsStr:\n",
    "    __slots__ = '_value'\n",
    "    def __init__(self):\n",
    "        self._value = 'Explanation of Repr vs Str: '\n",
    "        #pass\n",
    "        \n",
    "    def __repr__(self):        #implementing repr ,you have to always return a string, else runtime error\n",
    "        reprValue =self._value + \"I am in REPR\"\n",
    "        return reprValue\n",
    "        \n",
    "    def __str__(self):         #implementing str ,you have to always return a string, else runtime error\n",
    "        strValue = self._value + \"I am in STR\"\n",
    "        return strValue\n",
    "        \n",
    "egObj = ReprVsStr()"
   ]
  },
  {
   "cell_type": "code",
   "execution_count": 56,
   "metadata": {},
   "outputs": [
    {
     "data": {
      "text/plain": [
       "Explanation of Repr vs Str: I am in REPR"
      ]
     },
     "execution_count": 56,
     "metadata": {},
     "output_type": "execute_result"
    }
   ],
   "source": [
    "egObj"
   ]
  },
  {
   "cell_type": "code",
   "execution_count": 57,
   "metadata": {},
   "outputs": [
    {
     "data": {
      "text/plain": [
       "'Explanation of Repr vs Str: I am in REPR'"
      ]
     },
     "execution_count": 57,
     "metadata": {},
     "output_type": "execute_result"
    }
   ],
   "source": [
    "repr(egObj)"
   ]
  },
  {
   "cell_type": "code",
   "execution_count": 58,
   "metadata": {},
   "outputs": [
    {
     "name": "stdout",
     "output_type": "stream",
     "text": [
      "Explanation of Repr vs Str: I am in STR\n"
     ]
    }
   ],
   "source": [
    "print(egObj)"
   ]
  },
  {
   "cell_type": "code",
   "execution_count": 59,
   "metadata": {},
   "outputs": [
    {
     "data": {
      "text/plain": [
       "'Explanation of Repr vs Str: I am in STR'"
      ]
     },
     "execution_count": 59,
     "metadata": {},
     "output_type": "execute_result"
    }
   ],
   "source": [
    "str(egObj)"
   ]
  },
  {
   "cell_type": "code",
   "execution_count": 60,
   "metadata": {},
   "outputs": [
    {
     "data": {
      "text/plain": [
       "Explanation of Repr vs Str: I am in REPR"
      ]
     },
     "execution_count": 60,
     "metadata": {},
     "output_type": "execute_result"
    }
   ],
   "source": [
    "eval(\"egObj\")"
   ]
  },
  {
   "cell_type": "markdown",
   "metadata": {},
   "source": [
    "# Why to use slots in python"
   ]
  },
  {
   "cell_type": "code",
   "execution_count": 61,
   "metadata": {
    "collapsed": true
   },
   "outputs": [],
   "source": [
    "#https://stackoverflow.com/questions/472000/usage-of-slots\n",
    "\n",
    "#slots in a class helps in faster attribute access , space savings\n",
    "#By default all the member variables of a class are stored in a dictionary(__dict__) . With __slots__ we store it in tuple"
   ]
  },
  {
   "cell_type": "code",
   "execution_count": 62,
   "metadata": {
    "collapsed": true
   },
   "outputs": [],
   "source": [
    "import timeit\n",
    "#A class creation using slot, where we explicitly say it has only one attribute i.e_value\n",
    "class Foo:\n",
    "    __slots__ = '_value',\n",
    "\n",
    "#A class creation without using slot, where it can dynamically create any number of attributes.\n",
    "class Bar:pass\n",
    "\n",
    "slotted = Foo()\n",
    "non_slotted = Bar()\n",
    "\n",
    "def get_set_delete_fn(obj):\n",
    "    def get_set_delete():\n",
    "        obj._value='Hello'\n",
    "        obj._value\n",
    "        del obj._value\n",
    "    return get_set_delete"
   ]
  },
  {
   "cell_type": "code",
   "execution_count": 63,
   "metadata": {
    "collapsed": true
   },
   "outputs": [],
   "source": [
    "#slotted._val2 ='Amrit'     # will fail saying  Foo has no attribute called _val2\n",
    "non_slotted._val2 ='Amrit' #passes as by default, attribute allocation is dynamic"
   ]
  },
  {
   "cell_type": "code",
   "execution_count": 64,
   "metadata": {},
   "outputs": [
    {
     "data": {
      "text/plain": [
       "0.43112229999999996"
      ]
     },
     "execution_count": 64,
     "metadata": {},
     "output_type": "execute_result"
    }
   ],
   "source": [
    "#time taken for an attribute set,get and delete is less  --> for a slotted object\n",
    "#Taking the minimum value of the operation done after repeation of 5 times (of running the get_set_delete() 1000000 times)\n",
    "\n",
    "min( timeit.repeat(get_set_delete_fn(slotted),number=1000000,repeat=5) )"
   ]
  },
  {
   "cell_type": "code",
   "execution_count": 65,
   "metadata": {},
   "outputs": [
    {
     "data": {
      "text/plain": [
       "0.6218292999999999"
      ]
     },
     "execution_count": 65,
     "metadata": {},
     "output_type": "execute_result"
    }
   ],
   "source": [
    "#time taken for an attribute set,get and delete is more  --> for a non-slotted object\n",
    "#Taking the minimum value of the operation done after repeation of 5 times (of running the get_set_delete() 1000000 times)\n",
    "\n",
    "min( timeit.repeat(get_set_delete_fn(non_slotted),number=1000000,repeat=5) )"
   ]
  },
  {
   "cell_type": "markdown",
   "metadata": {},
   "source": [
    "# Local function and dunder closure"
   ]
  },
  {
   "cell_type": "code",
   "execution_count": 66,
   "metadata": {
    "collapsed": true
   },
   "outputs": [],
   "source": [
    "# Here base_num is a local/inner/nested function . It has an attribute __closure__ which binds the outer function\n",
    "# parameters(p_power,n) to it , if those parameters are used in the inner function\n",
    "def raise_to(p_power,n):\n",
    "    def base_num(p_base):\n",
    "        return p_base*n*p_power            #comment and uncomment following line for experiment in __closure__\n",
    "        #return p_base**p_power            #uncomment and see how many __closure__ attirbutes are there\n",
    "    return base_num\n"
   ]
  },
  {
   "cell_type": "code",
   "execution_count": 67,
   "metadata": {},
   "outputs": [
    {
     "data": {
      "text/plain": [
       "48"
      ]
     },
     "execution_count": 67,
     "metadata": {},
     "output_type": "execute_result"
    }
   ],
   "source": [
    "square = raise_to(2,8)\n",
    "square(3)"
   ]
  },
  {
   "cell_type": "code",
   "execution_count": 68,
   "metadata": {},
   "outputs": [
    {
     "data": {
      "text/plain": [
       "72"
      ]
     },
     "execution_count": 68,
     "metadata": {},
     "output_type": "execute_result"
    }
   ],
   "source": [
    "cube = raise_to(3,8)\n",
    "cube(3)"
   ]
  },
  {
   "cell_type": "code",
   "execution_count": 69,
   "metadata": {
    "scrolled": true
   },
   "outputs": [
    {
     "name": "stdout",
     "output_type": "stream",
     "text": [
      "(<cell at 0x0000021EAA4A9888: int object at 0x000000005E2CEAB0>, <cell at 0x0000021EAA4A9558: int object at 0x000000005E2CE9F0>)\n",
      "(<cell at 0x0000021EAA4A9858: int object at 0x000000005E2CEAB0>, <cell at 0x0000021EAA4A9708: int object at 0x000000005E2CEA10>)\n"
     ]
    }
   ],
   "source": [
    "print(square.__closure__)\n",
    "print(cube.__closure__)"
   ]
  },
  {
   "cell_type": "markdown",
   "metadata": {},
   "source": [
    "# Decorator with pipeline(send,yield and next)"
   ]
  },
  {
   "cell_type": "code",
   "execution_count": 70,
   "metadata": {
    "collapsed": true
   },
   "outputs": [],
   "source": [
    "#reader,adder,printer coroutine or pipeline\n",
    "#It is important to return the generator after executing next on it from the decorator, else send and yield won't work\n",
    "\n",
    "from functools import wraps\n",
    "def corr(f):\n",
    "    @wraps(f)\n",
    "    def inner(*args,**kwargs):\n",
    "        cr =f(*args,**kwargs)\n",
    "        next(cr)\n",
    "        return cr\n",
    "    return inner\n",
    "\n",
    "def reader(target):\n",
    "    for i in range(1,6):              #We can put in any generator here and doa\n",
    "        target.send(int(i))\n",
    "\n",
    "@corr\n",
    "def adder(target):\n",
    "    while True:\n",
    "        val=yield\n",
    "        target.send(val*100)\n",
    "        \n",
    "@corr\n",
    "def printer():\n",
    "    while True:\n",
    "        val=yield\n",
    "        print(val)"
   ]
  },
  {
   "cell_type": "code",
   "execution_count": 71,
   "metadata": {},
   "outputs": [
    {
     "name": "stdout",
     "output_type": "stream",
     "text": [
      "100\n",
      "200\n",
      "300\n",
      "400\n",
      "500\n"
     ]
    }
   ],
   "source": [
    "reader(adder(printer()))"
   ]
  },
  {
   "cell_type": "markdown",
   "metadata": {},
   "source": [
    "# Time complexity of an operation /function  --> Big-O"
   ]
  },
  {
   "cell_type": "code",
   "execution_count": 72,
   "metadata": {
    "collapsed": true
   },
   "outputs": [],
   "source": [
    "# O(1) > O(n) > O(nlogn) > O(n**2) > O(n**3) where n is the size\n",
    "# time complexity of \n",
    "#    -->a function with no for loop?\n",
    "#    -->a function with 1 for loop? (where for loop uses the size of the input / vs size not used)\n",
    "#    -->a function with a nested for loop within a for loop? (where for loop uses the size of the input / vs size not used)\n",
    "#    -->a function with 2 nested for loops within a for loop? (where for loop uses the size of the input / vs size not used)\n",
    "#    -->Accessing a dictionary with key /without key ?\n",
    "#    -->Accessing a list with index/without index ?"
   ]
  },
  {
   "cell_type": "code",
   "execution_count": 73,
   "metadata": {
    "collapsed": true
   },
   "outputs": [],
   "source": [
    "# Qstn => Write a function to custom sort the list of dictionaries as per the input order with O(n)\n",
    "d1 ={'x':1,'y':11,'z':11}\n",
    "d2 ={'x':2,'y':222,'z':222}\n",
    "d3 ={'x':3,'y':3333,'z':3333}\n",
    "d4 ={'x':4,'y':44444,'z':44444}\n",
    "\n",
    "list_of_dict =[d1,d2,d3,d4]\n",
    "input_order =[3,4,2,1]"
   ]
  },
  {
   "cell_type": "code",
   "execution_count": 74,
   "metadata": {},
   "outputs": [
    {
     "data": {
      "text/plain": [
       "[{'x': 3, 'y': 3333, 'z': 3333},\n",
       " {'x': 4, 'y': 44444, 'z': 44444},\n",
       " {'x': 2, 'y': 222, 'z': 222},\n",
       " {'x': 1, 'y': 11, 'z': 11}]"
      ]
     },
     "execution_count": 74,
     "metadata": {},
     "output_type": "execute_result"
    }
   ],
   "source": [
    "#approach with time complexity O(n)\n",
    "def custom_sort_dict(ls_dict,dict_order):\n",
    "    tmp_dict={}\n",
    "    out_list=[]\n",
    "    for item in ls_dict:\n",
    "        tmp_dict[ item['x'] ] = item\n",
    "        \n",
    "    for order in dict_order:\n",
    "        out_list.append(tmp_dict[order])\n",
    "    \n",
    "    return out_list\n",
    "\n",
    "custom_sort_dict(list_of_dict,input_order)"
   ]
  },
  {
   "cell_type": "code",
   "execution_count": 77,
   "metadata": {},
   "outputs": [
    {
     "name": "stdout",
     "output_type": "stream",
     "text": [
      "Help on built-in function globals in module builtins:\n",
      "\n",
      "globals()\n",
      "    Return the dictionary containing the current scope's global variables.\n",
      "    \n",
      "    NOTE: Updates to this dictionary *will* affect name lookups in the current\n",
      "    global scope and vice-versa.\n",
      "\n"
     ]
    }
   ],
   "source": [
    "help(globals)"
   ]
  },
  {
   "cell_type": "code",
   "execution_count": 78,
   "metadata": {
    "scrolled": true
   },
   "outputs": [
    {
     "name": "stdout",
     "output_type": "stream",
     "text": [
      "Help on built-in function locals in module builtins:\n",
      "\n",
      "locals()\n",
      "    Return a dictionary containing the current scope's local variables.\n",
      "    \n",
      "    NOTE: Whether or not updates to this dictionary will affect name lookups in\n",
      "    the local scope and vice-versa is *implementation dependent* and not\n",
      "    covered by any backwards compatibility guarantees.\n",
      "\n"
     ]
    }
   ],
   "source": [
    "help(locals)"
   ]
  },
  {
   "cell_type": "code",
   "execution_count": 3,
   "metadata": {},
   "outputs": [
    {
     "name": "stdout",
     "output_type": "stream",
     "text": [
      "Concepts of Iterable\n"
     ]
    }
   ],
   "source": [
    "\"\"\"\n",
    "You are now asking about one of the most important interface in Python: \n",
    "\n",
    "iterable - it's basically anything you can use like for elem in iterable.\n",
    "\n",
    "iterable has three descendants: sequence, generator and mapping.\n",
    "\n",
    "A sequence is a iterable with random access. You can ask for any item of the sequence without having to consume the items before\n",
    "it. With this property you can build slices, which give you more than one element at once. A slice can give you a subsequence: \n",
    "seq[from:until] and every nth item: seq[from:until:nth]. list, tuple and str all are sequences.\n",
    "\n",
    "If the access is done via keys instead of integer positions, you have a mapping. dict is the basic mapping.\n",
    "\n",
    "The most basic iterable is a generator. It supports no random access and therefore no slicing. You have to consume all items in \n",
    "the order they are given. Generator typically only create their items when you iterate over them. The common way to create \n",
    "generators are generator expressions. They look exactly like list comprehension, except with round brackets, \n",
    "for example (f(x) for x in y). Calling a function that uses the yield keyword returns a generator too.\n",
    "\n",
    "The common adapter to all iterables is the iterator. iterators have the same interface as the most basic type they support, a \n",
    "generator. They are created explicitly by calling iter on a iterable and are used implicitly in all kinds of looping constructs.\n",
    "\"\"\"\n",
    "print(\"Concepts of Iterable\")"
   ]
  },
  {
   "cell_type": "code",
   "execution_count": null,
   "metadata": {
    "collapsed": true
   },
   "outputs": [],
   "source": [
    "#exercise of first class function For an Order(Purchase) class"
   ]
  },
  {
   "cell_type": "code",
   "execution_count": null,
   "metadata": {
    "collapsed": true
   },
   "outputs": [],
   "source": [
    "#exercise of context manager using Connection and Transaction"
   ]
  },
  {
   "cell_type": "markdown",
   "metadata": {},
   "source": [
    "# Multiple Inheritance"
   ]
  },
  {
   "cell_type": "code",
   "execution_count": 2,
   "metadata": {},
   "outputs": [
    {
     "name": "stdout",
     "output_type": "stream",
     "text": [
      "Multiple Inheritance\n"
     ]
    }
   ],
   "source": [
    "\"\"\"\n",
    "Multiple Inheritance:\n",
    "->If a class has multiple base class and defines no __init__() in itself, then only __init__() of first base class is called.\n",
    "-> __bases__ is a tuple of base classes. same order as defined in sub-class definition\n",
    "-> __mro__ is a tuple which stores the method resolution order . mro() same information in list\n",
    "-> when a method for a subclass instance is called,it scans the mro() and whichever first class has the function,it calls that.\n",
    "\n",
    "-> c3 is the algorithm for MRO. c3 properties:-\n",
    "->   #sub classes come before base classes\n",
    "->   #Base class order from class definition is also preserved\n",
    "->   #Above 2 qualities are preserved no matter where you start in inheritance graph\n",
    "\n",
    "-> super() /Bound Proxy -bound to a specific class or instance\n",
    "-> class bound proxy - super(Base class,Derived class)\n",
    "-> instance bound proxy - super(class,instance-of-class)\n",
    "\"\"\"\n",
    "print(\"Multiple Inheritance\")"
   ]
  },
  {
   "cell_type": "code",
   "execution_count": 1,
   "metadata": {
    "scrolled": true
   },
   "outputs": [
    {
     "name": "stdout",
     "output_type": "stream",
     "text": [
      "I am in A :-> 4\n",
      "I am in B :-> 4\n",
      "I am in C :-> 4\n",
      "I am in D :-> 4\n"
     ]
    },
    {
     "data": {
      "text/plain": [
       "[__main__.D, __main__.C, __main__.B, __main__.A, object]"
      ]
     },
     "execution_count": 1,
     "metadata": {},
     "output_type": "execute_result"
    }
   ],
   "source": [
    "class A:\n",
    "    def __init__(self,x):\n",
    "        self.x =x\n",
    "        print(\"I am in A :-> \" + x)\n",
    "        \n",
    "    def add(self):\n",
    "        print(\"I am in A[add] : -> \" + self.x)\n",
    "        \n",
    "    @classmethod\n",
    "    def view(cls):\n",
    "        print(\"I am in A[view] : -> \")\n",
    "            \n",
    "class B(A):\n",
    "    def __init__(self,x):\n",
    "        super(B,self).__init__(x)\n",
    "        print(\"I am in B :-> \" + self.x)\n",
    "        \n",
    "    def add(self):\n",
    "        print(\"I am in B[add] : -> \" + self.x)\n",
    "        \n",
    "    @classmethod\n",
    "    def view(cls):\n",
    "        super().view()      #equivalent to super(B,D)  ,because the instance was created from D class (for super's 2nd argument)\n",
    "        print(\"I am in B[view] : -> \")\n",
    "\n",
    "class C(A):\n",
    "    def __init__(self,x):\n",
    "        super(C,self).__init__(x)\n",
    "        print(\"I am in C :-> \" + self.x)\n",
    "        \n",
    "    def add(self):\n",
    "        print(\"I am in C[add] : -> \" + self.x)\n",
    "        \n",
    "    @classmethod\n",
    "    def view(cls):\n",
    "        super().view()      #equivalent to super(C,D)  ,because the instance was created from D class (for super's 2nd argument)\n",
    "        print(\"I am in C[view] : -> \")\n",
    "        \n",
    "\n",
    "#Multiple inheritance\n",
    "class D(C,B):\n",
    "    def __init__(self,x):\n",
    "        super(D,self).__init__(x)\n",
    "        print(\"I am in D :-> \" + self.x)\n",
    "        \n",
    "    def add(self):\n",
    "        print(\"I am in D[add] : -> \" + self.x)\n",
    "        \n",
    "    @classmethod\n",
    "    def view(cls):\n",
    "        super().view()      #equivalent to super(D,D)  ,because the instance was created from D class (for super's 2nd argument)\n",
    "        print(\"I am in D[view] : -> \")\n",
    "\n",
    "s=D('4')     #change the order of parent class in definition of D class like B,C and answer the questions for super\n",
    "\n",
    "\"\"\"\n",
    "Answer Below questions for <<class D(C,B)>> AND <<class D(B,C)>>:-\n",
    "super(D,s).__init__\n",
    "super(C,s).__init__\n",
    "super(B,s).__init__\n",
    "super(A,s).__init__\n",
    "isinstance(s,A)\n",
    "super(D,D).view()\n",
    "super(C,D).view()\n",
    "\"\"\"\n",
    "D.mro()"
   ]
  },
  {
   "cell_type": "markdown",
   "metadata": {},
   "source": [
    "# Concurrency"
   ]
  },
  {
   "cell_type": "code",
   "execution_count": null,
   "metadata": {
    "collapsed": true
   },
   "outputs": [],
   "source": [
    "Concurrency:\n",
    "-----------\n",
    "->The dictionary definition of concurrency is simultaneous occurrence. In Python, the things that are occurring simultaneously \n",
    "are called by different names (thread, task, process) but at a high level, they all refer to a sequence of instructions that run \n",
    "in order.\n",
    "->You have to be a little careful because, when you get down to the details, only multiprocessing actually runs these trains of \n",
    "thought at literally the same time.\n",
    "->I like to think of them as different trains of thought. Each one can be stopped at certain points, and the CPU or brain that \n",
    "is processing them can switch to a different one. The state of each one is saved so it can be restarted right where it was \n",
    "interrupted.\n",
    "->Threading and asyncio both run on a single processor and therefore only run one at a time,concurrency that happens on a single\n",
    "processor\n",
    "-> \"Threading\" switch between tasks can happen at any time. \"asyncio\" switch between tasks can happen,where instructed via code.\n",
    "-> In fact, async IO is a single-threaded, single-process design: it uses cooperative multitasking"
   ]
  },
  {
   "cell_type": "code",
   "execution_count": null,
   "metadata": {
    "collapsed": true
   },
   "outputs": [],
   "source": [
    "I/O-Bound Process\n",
    "-----------------\n",
    "-> Your program spends most of its time talking to a slow device, like a network connection, a hard drive, or a printer.\n",
    "solutions:-\n",
    "Synchronous Version  (problem -- very slow)  <1 cpu>\n",
    "threading Version (problem-- some variables not threadsafe)  <<OS takes control>>  <1 cpu>\n",
    "\"\"\n",
    "asyncio    ('event loop' and 'states of tasks:-ready,waiting')      <<tasks take control>>   <1 cpu>\n",
    " you can view await as the magic that allows the task to hand control back to the event loop.\n",
    " you do need to remember that any function that calls await needs to be marked with async. You’ll get a syntax error otherwise.\n",
    "\"\"\n",
    "multiprocessing   <no of cpus present in the system>\n",
    "\n"
   ]
  },
  {
   "cell_type": "code",
   "execution_count": null,
   "metadata": {
    "collapsed": true
   },
   "outputs": [],
   "source": [
    "https://realpython.com/async-io-python/\n",
    "---------------------------------------\n",
    "Sync vs Async:\n",
    "------------\n",
    "Chess master Judit Polgár hosts a chess exhibition in which she plays multiple amateur players. She has two ways of conducting \n",
    "the exhibition: synchronously and asynchronously.\n",
    "\n",
    "-->Assumptions:\n",
    "24 opponents\n",
    "Judit makes each chess move in 5 seconds\n",
    "Opponents each take 55 seconds to make a move\n",
    "Games average 30 pair-moves (60 moves total)\n",
    "\n",
    "--> Synchronous version: \n",
    "Judit plays one game at a time, never two at the same time, until the game is complete. Each game takes (55 + 5) * 30 == 1800 \n",
    "seconds, or 30 minutes. The entire exhibition takes 24 * 30 == 720 minutes, or 12 hours.\n",
    "\n",
    "--> Asynchronous version: \n",
    "Judit moves from table to table, making one move at each table. She leaves the table and lets the opponent make their next move \n",
    "during the wait time. One move on all 24 games takes Judit 24 * 5 == 120 seconds, or 2 minutes. The entire exhibition is now cut \n",
    "down to 120 * 30 == 3600 seconds, or just 1 hour.\n",
    "\n",
    "async def g():\n",
    "    # Pause here and come back to g() when f() is ready\n",
    "    r = await f()\n",
    "    return r  \n",
    "    \n",
    "-> Finally, when you use await f(), it’s required that f() be an object that is awaitable. Well, that’s not very helpful, is it? For now, just know that an awaitable object is either (1) another coroutine or (2) an object defining an .__await__() dunder method that returns an iterator. If you’re writing a program, for the large majority of purposes, you should only need to worry about case #1."
   ]
  },
  {
   "cell_type": "code",
   "execution_count": 2,
   "metadata": {},
   "outputs": [
    {
     "name": "stdout",
     "output_type": "stream",
     "text": [
      "valid / invalid async syntax\n"
     ]
    }
   ],
   "source": [
    "\"\"\"\n",
    "#valid asyncio syntax:\n",
    "\n",
    "async def f(x):\n",
    "    y = await z(x)  # OK - `await` and `return` allowed in coroutines\n",
    "    return y\n",
    "\n",
    "async def g(x):\n",
    "    yield x  # OK - this is an async generator\n",
    "\n",
    "async def m(x):\n",
    "    yield from gen(x)  # No - SyntaxError\n",
    "\n",
    "def m(x):\n",
    "    y = await z(x)  # Still no - SyntaxError (no `async def` here)\n",
    "    return y\n",
    "\"\"\"\n",
    "print(\"valid / invalid async syntax\")"
   ]
  },
  {
   "cell_type": "markdown",
   "metadata": {},
   "source": [
    "# REST API using flask"
   ]
  },
  {
   "cell_type": "code",
   "execution_count": 1,
   "metadata": {},
   "outputs": [
    {
     "name": "stdout",
     "output_type": "stream",
     "text": [
      "\n"
     ]
    }
   ],
   "source": [
    "\"\"\"\n",
    "https://www.youtube.com/watch?v=-gUyWoe_SKI&ab_channel=edureka%21\n",
    "API is Application Programming Interface. It is a bridge between to 2 programs.\n",
    "HTTP -> URL -> JSON -> REST\n",
    "REST is Representational Stateless Transfer.REST is basically a set of rules followed to create an API.\n",
    "\"\"\"\n",
    "print()"
   ]
  },
  {
   "cell_type": "code",
   "execution_count": null,
   "metadata": {},
   "outputs": [],
   "source": [
    "#app.py (Creating a server)\n",
    "import sys,pathlib\n",
    "from flask import Flask,jsonify\n",
    "\n",
    "cwd=str(pathlib.Path().resolve())\n",
    "if cwd not in sys.path:\n",
    "    sys.path.append(cwd)\n",
    "\n",
    "name='app'\n",
    "app = Flask(name)  #Keeping the server name as file name\n",
    "\n",
    "@app.route('/')\n",
    "def index():      # Making the index page for server\n",
    "    return \"Welcome to the Course api\"\n",
    "\n",
    "if __name__=='__main__':\n",
    "    #app.run(debug=True)\n",
    "    app.run(host=\"127.0.0.1\", port=5000, threaded=True,debug=True)"
   ]
  }
 ],
 "metadata": {
  "kernelspec": {
   "display_name": "Python 3",
   "language": "python",
   "name": "python3"
  },
  "language_info": {
   "codemirror_mode": {
    "name": "ipython",
    "version": 3
   },
   "file_extension": ".py",
   "mimetype": "text/x-python",
   "name": "python",
   "nbconvert_exporter": "python",
   "pygments_lexer": "ipython3",
   "version": "3.6.1"
  }
 },
 "nbformat": 4,
 "nbformat_minor": 2
}
