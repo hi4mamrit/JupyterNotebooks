{
 "cells": [
  {
   "cell_type": "markdown",
   "metadata": {},
   "source": [
    "# A seating arrangement in flight "
   ]
  },
  {
   "cell_type": "code",
   "execution_count": 2,
   "metadata": {
    "scrolled": true
   },
   "outputs": [
    {
     "name": "stdout",
     "output_type": "stream",
     "text": [
      "Before:-\n",
      "==========\n",
      "[None,\n",
      " {'A': None, 'B': None, 'C': None, 'D': None},\n",
      " {'A': None, 'B': None, 'C': None, 'D': None},\n",
      " {'A': None, 'B': None, 'C': None, 'D': None},\n",
      " {'A': None, 'B': None, 'C': None, 'D': None},\n",
      " {'A': None, 'B': None, 'C': None, 'D': None},\n",
      " {'A': None, 'B': None, 'C': None, 'D': None},\n",
      " {'A': None, 'B': None, 'C': None, 'D': None}]\n",
      "\n",
      "After:-\n",
      "==========\n",
      "[None,\n",
      " {'A': None, 'B': 'Amrit', 'C': 'Ronn', 'D': None},\n",
      " {'A': None, 'B': None, 'C': None, 'D': None},\n",
      " {'A': None, 'B': None, 'C': None, 'D': None},\n",
      " {'A': None, 'B': None, 'C': None, 'D': None},\n",
      " {'A': None, 'B': None, 'C': None, 'D': None},\n",
      " {'A': None, 'B': None, 'C': None, 'D': None},\n",
      " {'A': None, 'B': None, 'C': None, 'D': None}]\n"
     ]
    }
   ],
   "source": [
    "# A seating arrangement in flight  <  With O(n**2) complexity  >\n",
    "#There are 7 rows with 4 seats each (A, B, C, D)\n",
    "from pprint import pprint as pp\n",
    "\n",
    "rows,seat=(range(1,8), \"ABCDEF\"[:4])\n",
    "seating=[None] + [{letter:None for letter in seat} for _ in rows]  #list of dictionaries\n",
    "print(\"Before:-\")\n",
    "print(\"==========\")\n",
    "pp(seating)\n",
    "\n",
    "#Amrit wants to seat in 1st row,seat 'B'\n",
    "#Ronn wants to seat in 1st row,seat 'C'\n",
    "\n",
    "seating[1]['B']='Amrit'\n",
    "seating[1]['C']='Ronn'\n",
    "print(\"\\nAfter:-\")\n",
    "print(\"==========\")\n",
    "pp(seating)"
   ]
  },
  {
   "cell_type": "markdown",
   "metadata": {},
   "source": [
    "# Coding a counter with different time-complexity n' Measuring with timeit module"
   ]
  },
  {
   "cell_type": "code",
   "execution_count": 3,
   "metadata": {
    "collapsed": true
   },
   "outputs": [],
   "source": [
    "#code a counter using O(n**2)\n",
    "def opt_nn(myS):\n",
    "    def inner():\n",
    "        x=myS\n",
    "        d=dict()\n",
    "        for i in x:              #O(n)\n",
    "            if i in d.keys():    #nested O(n)\n",
    "                d[i]=d[i] + 1\n",
    "            else:\n",
    "                d[i]=1\n",
    "        #print(d)\n",
    "    return inner\n"
   ]
  },
  {
   "cell_type": "code",
   "execution_count": 4,
   "metadata": {},
   "outputs": [
    {
     "data": {
      "text/plain": [
       "7.613934"
      ]
     },
     "execution_count": 4,
     "metadata": {},
     "output_type": "execute_result"
    }
   ],
   "source": [
    "#see the minimum time taken for O(n**2)\n",
    "import timeit\n",
    "\n",
    "#Taking the minimum value of the operation done after repeation of 3 times (of running the opt_nn() 1000 times)\n",
    "min( timeit.repeat(opt_nn(\"Amrit Sri Kumar\"*1000), number=1000 ,repeat=3) )"
   ]
  },
  {
   "cell_type": "code",
   "execution_count": 5,
   "metadata": {
    "collapsed": true
   },
   "outputs": [],
   "source": [
    "#code a counter using O(n)\n",
    "def opt_n(myS):\n",
    "    def inner():\n",
    "        x=myS\n",
    "        s=set(x)  #this is O(n)\n",
    "        d=dict()  #O(1)\n",
    "        for i in s:       #O(n)\n",
    "            d[i]=0        #O(1)    \n",
    "        #del s\n",
    "        for j in x:       #O(n)\n",
    "            d[j] =d[j]+1  #O(1)\n",
    "        #print(d)\n",
    "        \n",
    "    return inner"
   ]
  },
  {
   "cell_type": "code",
   "execution_count": 6,
   "metadata": {},
   "outputs": [
    {
     "data": {
      "text/plain": [
       "4.605482899999998"
      ]
     },
     "execution_count": 6,
     "metadata": {},
     "output_type": "execute_result"
    }
   ],
   "source": [
    "#see the minimum time taken for O(n)\n",
    "import timeit\n",
    "\n",
    "#Taking the minimum value of the operation done after repeation of 3 times (of running the opt_n() 1000 times)\n",
    "min( timeit.repeat(opt_n(\"Amrit Sri Kumar\"*1000), number=1000, repeat=3) )"
   ]
  },
  {
   "cell_type": "markdown",
   "metadata": {},
   "source": [
    "# Install Memory_profiler module and inspect memory size of a function"
   ]
  },
  {
   "cell_type": "raw",
   "metadata": {},
   "source": [
    "#install a libray in jupyter\n",
    "\n",
    "! pip install -U memory_profiler"
   ]
  },
  {
   "cell_type": "code",
   "execution_count": 7,
   "metadata": {
    "scrolled": true
   },
   "outputs": [
    {
     "data": {
      "text/plain": [
       "'C:\\\\Users\\\\amrikuma\\\\AppData\\\\Local\\\\Continuum\\\\Anaconda3\\\\lib\\\\site-packages\\\\memory_profiler.py'"
      ]
     },
     "execution_count": 7,
     "metadata": {},
     "output_type": "execute_result"
    }
   ],
   "source": [
    "import memory_profiler\n",
    "memory_profiler.__file__"
   ]
  },
  {
   "cell_type": "code",
   "execution_count": 8,
   "metadata": {},
   "outputs": [
    {
     "data": {
      "text/plain": [
       "[54.15625, 54.15625, 54.15625, 54.15625, 54.15625, 54.15625]"
      ]
     },
     "execution_count": 8,
     "metadata": {},
     "output_type": "execute_result"
    }
   ],
   "source": [
    "#https://code.tutsplus.com/tutorials/understand-how-much-memory-your-python-objects-use--cms-25609\n",
    "from memory_profiler import memory_usage\n",
    "\n",
    "def myCnt(myS):\n",
    "    x=myS\n",
    "    s=set(x)  #this is O(n)\n",
    "    d=dict()  #O(1)\n",
    "    for i in s:       #O(n)\n",
    "        d[i]=0        #O(1)    \n",
    "    del s\n",
    "    for j in x:       #O(n)\n",
    "        d[j] =d[j]+1  #O(1)\n",
    "    #print(d\n",
    "\n",
    "memory_usage( (myCnt, (\"Amrit Sri Kumar\"*100,)) )\n",
    "\n",
    "#myCnt(\"Amrit Sri Kumar\"*100)"
   ]
  },
  {
   "cell_type": "markdown",
   "metadata": {},
   "source": [
    "# Inheritance of class property decorators"
   ]
  },
  {
   "cell_type": "code",
   "execution_count": 9,
   "metadata": {
    "collapsed": true
   },
   "outputs": [],
   "source": [
    "#setter property over loading with template design pattern. let the setter call a member function \n",
    "#and overload that member function in child class\n",
    "class Teacher:\n",
    "    \n",
    "    def __init__(self,age):\n",
    "        self.age=age\n",
    "        \n",
    "    @property\n",
    "    def age(self):\n",
    "        return self._age\n",
    "    \n",
    "    @age.setter\n",
    "    def age(self,age):\n",
    "        self._set_age(age)                  #setter calls it\n",
    "            \n",
    "    def _set_age(self,age):                 #member function to overload\n",
    "        if age<15:\n",
    "            raise ValueError(\"Too young\")\n",
    "        self._age=age\n",
    "            \n",
    "\n",
    "class HSTeacher(Teacher):\n",
    "    \n",
    "    def _set_age(self,age):                 #overload the member function\n",
    "        if age>45:\n",
    "            raise ValueError(\"Too Old\")\n",
    "        super()._set_age(age)               # call parent member function in case u need\n",
    "        self._age=age"
   ]
  },
  {
   "cell_type": "code",
   "execution_count": 10,
   "metadata": {},
   "outputs": [
    {
     "name": "stdout",
     "output_type": "stream",
     "text": [
      "{'_age': 45}\n",
      "\n",
      "\n",
      "['__class__', '__delattr__', '__dict__', '__dir__', '__doc__', '__eq__', '__format__', '__ge__', '__getattribute__', '__gt__', '__hash__', '__init__', '__init_subclass__', '__le__', '__lt__', '__module__', '__ne__', '__new__', '__reduce__', '__reduce_ex__', '__repr__', '__setattr__', '__sizeof__', '__str__', '__subclasshook__', '__weakref__', '_age', '_set_age', 'age']\n",
      "\n",
      "\n",
      "{'__module__': '__main__', '__init__': <function Teacher.__init__ at 0x0000026A2A413EA0>, 'age': <property object at 0x0000026A2A405F98>, '_set_age': <function Teacher._set_age at 0x0000026A2A42E0D0>, '__dict__': <attribute '__dict__' of 'Teacher' objects>, '__weakref__': <attribute '__weakref__' of 'Teacher' objects>, '__doc__': None}\n",
      "\n",
      "\n",
      "['__class__', '__delattr__', '__dict__', '__dir__', '__doc__', '__eq__', '__format__', '__ge__', '__getattribute__', '__gt__', '__hash__', '__init__', '__init_subclass__', '__le__', '__lt__', '__module__', '__ne__', '__new__', '__reduce__', '__reduce_ex__', '__repr__', '__setattr__', '__sizeof__', '__str__', '__subclasshook__', '__weakref__', '_set_age', 'age']\n",
      "{'__module__': '__main__', '__init__': <function Teacher.__init__ at 0x0000026A2A413EA0>, 'age': <property object at 0x0000026A2A405F98>, '_set_age': <function Teacher._set_age at 0x0000026A2A42E0D0>, '__dict__': <attribute '__dict__' of 'Teacher' objects>, '__weakref__': <attribute '__weakref__' of 'Teacher' objects>, '__doc__': None}\n",
      "{'_age': 45}\n"
     ]
    }
   ],
   "source": [
    "Nay = Teacher(45)\n",
    "print(Nay.__dict__)  #contains all the k:v pairs of properties/descriptor in Nay object\n",
    "print(\"\\n\")\n",
    "print(dir(Nay))      #list of all attributes of Nay object\n",
    "\n",
    "print(\"\\n\")\n",
    "\n",
    "print(Teacher.__dict__) #contains all the k:v pairs of properties/descriptor in Teacher class\n",
    "print(\"\\n\")\n",
    "print(dir(Teacher))  #list of all attributes of Teacher class\n",
    "\n",
    "print(vars(Teacher))  # same as Teacher.__dict__\n",
    "print(vars(Nay))  # same as Nay.__dict__"
   ]
  },
  {
   "cell_type": "code",
   "execution_count": 11,
   "metadata": {
    "collapsed": true
   },
   "outputs": [],
   "source": [
    "Mah = HSTeacher(45)"
   ]
  },
  {
   "cell_type": "code",
   "execution_count": 12,
   "metadata": {
    "scrolled": false
   },
   "outputs": [
    {
     "name": "stdout",
     "output_type": "stream",
     "text": [
      "(<class 'ValueError'>, ValueError('Too Old',), <traceback object at 0x0000026A2A4211C8>)\n"
     ]
    }
   ],
   "source": [
    "import sys\n",
    "try:\n",
    "    Mah.age=48\n",
    "except:\n",
    "    print(sys.exc_info())"
   ]
  },
  {
   "cell_type": "code",
   "execution_count": 13,
   "metadata": {},
   "outputs": [
    {
     "name": "stdout",
     "output_type": "stream",
     "text": [
      "(<class 'ValueError'>, ValueError('Too young',), <traceback object at 0x0000026A2A42CBC8>)\n"
     ]
    }
   ],
   "source": [
    "import sys\n",
    "try:\n",
    "    Mah.age=12\n",
    "except:\n",
    "    print(sys.exc_info())"
   ]
  },
  {
   "cell_type": "markdown",
   "metadata": {},
   "source": [
    "# Playing around with context Manager"
   ]
  },
  {
   "cell_type": "code",
   "execution_count": 24,
   "metadata": {
    "collapsed": true
   },
   "outputs": [],
   "source": [
    "##on github give title like: Playing around with context Manager\n",
    "\n",
    "#context manager (with Keyword) demo  . You always have to \n",
    "class myDemo:\n",
    "    \n",
    "    def __enter__(self):\n",
    "        print(f\"HI I am in __enter__\")\n",
    "        return \"Enter Here\"            #this return value is assigned to with's 'as' variable\n",
    "    \n",
    "    \n",
    "    #If the body of 'with' block has no exception, exception is None for __exit__\n",
    "    #If the body of 'with' block has exception, exception is propagated to __exit__\n",
    "    #By default function returns None.  None evaluates to false\n",
    "    #if you do a return True, the exception wont propagate\n",
    "    \n",
    "    #sys.exc_info()  ==> output is tuple of 3 values (exc_type, exc_val, exc_tb)\n",
    "    \n",
    "    def __exit__(self,exc_type,exc_val,exc_tb):\n",
    "        print(f\"Exception details are:{exc_type}->{exc_val}->{exc_tb}\")\n",
    "        #return True\n",
    "        return\n",
    "        "
   ]
  },
  {
   "cell_type": "code",
   "execution_count": 15,
   "metadata": {
    "scrolled": false
   },
   "outputs": [
    {
     "name": "stdout",
     "output_type": "stream",
     "text": [
      "HI I am in __enter__\n",
      "Enter Here\n",
      "Exception details are:None->None->None\n"
     ]
    }
   ],
   "source": [
    "#no exception  ('with' is kind of --> f=myDemo() , where f is return value of myDemo.__enter__)\n",
    "with myDemo() as f:\n",
    "    print(f)               # body of with statement , no exception"
   ]
  },
  {
   "cell_type": "code",
   "execution_count": 17,
   "metadata": {},
   "outputs": [
    {
     "name": "stdout",
     "output_type": "stream",
     "text": [
      "HI I am in __enter__\n",
      "Exception details are:<class 'ValueError'>->Bad Print-><traceback object at 0x0000026A2A443988>\n"
     ]
    }
   ],
   "source": [
    "# myDemo().__exit__ has return True, exception wont propagates to REPL\n",
    "with myDemo() as g:\n",
    "    raise ValueError(\"Bad Print\")\n",
    "    print(g)"
   ]
  },
  {
   "cell_type": "code",
   "execution_count": 25,
   "metadata": {},
   "outputs": [
    {
     "name": "stdout",
     "output_type": "stream",
     "text": [
      "HI I am in __enter__\n",
      "Exception details are:<class 'ValueError'>->Bad Print-><traceback object at 0x0000026A2A43A548>\n"
     ]
    },
    {
     "ename": "ValueError",
     "evalue": "Bad Print",
     "output_type": "error",
     "traceback": [
      "\u001b[1;31m---------------------------------------------------------------------------\u001b[0m",
      "\u001b[1;31mValueError\u001b[0m                                Traceback (most recent call last)",
      "\u001b[1;32m<ipython-input-25-c45908a6bc78>\u001b[0m in \u001b[0;36m<module>\u001b[1;34m()\u001b[0m\n\u001b[0;32m      1\u001b[0m \u001b[1;31m# myDemo().__exit__ has return(equivalent to return None/False), exception  propagates to REPL\u001b[0m\u001b[1;33m\u001b[0m\u001b[1;33m\u001b[0m\u001b[0m\n\u001b[0;32m      2\u001b[0m \u001b[1;32mwith\u001b[0m \u001b[0mmyDemo\u001b[0m\u001b[1;33m(\u001b[0m\u001b[1;33m)\u001b[0m \u001b[1;32mas\u001b[0m \u001b[0mg\u001b[0m\u001b[1;33m:\u001b[0m\u001b[1;33m\u001b[0m\u001b[0m\n\u001b[1;32m----> 3\u001b[1;33m     \u001b[1;32mraise\u001b[0m \u001b[0mValueError\u001b[0m\u001b[1;33m(\u001b[0m\u001b[1;34m\"Bad Print\"\u001b[0m\u001b[1;33m)\u001b[0m\u001b[1;33m\u001b[0m\u001b[0m\n\u001b[0m\u001b[0;32m      4\u001b[0m     \u001b[0mprint\u001b[0m\u001b[1;33m(\u001b[0m\u001b[0mg\u001b[0m\u001b[1;33m)\u001b[0m\u001b[1;33m\u001b[0m\u001b[0m\n",
      "\u001b[1;31mValueError\u001b[0m: Bad Print"
     ]
    }
   ],
   "source": [
    "# myDemo().__exit__ has return(equivalent to return None/False), exception  propagates to REPL\n",
    "with myDemo() as g:\n",
    "    raise ValueError(\"Bad Print\")\n",
    "    print(g)"
   ]
  },
  {
   "cell_type": "code",
   "execution_count": 18,
   "metadata": {},
   "outputs": [
    {
     "name": "stdout",
     "output_type": "stream",
     "text": [
      "(<class 'FileNotFoundError'>, FileNotFoundError(2, 'No such file or directory'), <traceback object at 0x0000026A2A443C88>)\n"
     ]
    }
   ],
   "source": [
    "#another example of above concept (raise vs #raise in except section)\n",
    "try:\n",
    "    with open(\"amritkuma\") as f:\n",
    "        print(\"hi\")\n",
    "except:\n",
    "    print(sys.exc_info())\n",
    "    #raise"
   ]
  },
  {
   "cell_type": "code",
   "execution_count": 26,
   "metadata": {},
   "outputs": [
    {
     "name": "stdout",
     "output_type": "stream",
     "text": [
      "(<class 'FileNotFoundError'>, FileNotFoundError(2, 'No such file or directory'), <traceback object at 0x0000026A2A4CC448>)\n"
     ]
    },
    {
     "ename": "FileNotFoundError",
     "evalue": "[Errno 2] No such file or directory: 'amritkuma'",
     "output_type": "error",
     "traceback": [
      "\u001b[1;31m---------------------------------------------------------------------------\u001b[0m",
      "\u001b[1;31mFileNotFoundError\u001b[0m                         Traceback (most recent call last)",
      "\u001b[1;32m<ipython-input-26-adfa49094d9b>\u001b[0m in \u001b[0;36m<module>\u001b[1;34m()\u001b[0m\n\u001b[0;32m      1\u001b[0m \u001b[1;31m#another example of above concept (raise vs #raise in except section)\u001b[0m\u001b[1;33m\u001b[0m\u001b[1;33m\u001b[0m\u001b[0m\n\u001b[0;32m      2\u001b[0m \u001b[1;32mtry\u001b[0m\u001b[1;33m:\u001b[0m\u001b[1;33m\u001b[0m\u001b[0m\n\u001b[1;32m----> 3\u001b[1;33m     \u001b[1;32mwith\u001b[0m \u001b[0mopen\u001b[0m\u001b[1;33m(\u001b[0m\u001b[1;34m\"amritkuma\"\u001b[0m\u001b[1;33m)\u001b[0m \u001b[1;32mas\u001b[0m \u001b[0mf\u001b[0m\u001b[1;33m:\u001b[0m\u001b[1;33m\u001b[0m\u001b[0m\n\u001b[0m\u001b[0;32m      4\u001b[0m         \u001b[0mprint\u001b[0m\u001b[1;33m(\u001b[0m\u001b[1;34m\"hi\"\u001b[0m\u001b[1;33m)\u001b[0m\u001b[1;33m\u001b[0m\u001b[0m\n\u001b[0;32m      5\u001b[0m \u001b[1;32mexcept\u001b[0m\u001b[1;33m:\u001b[0m\u001b[1;33m\u001b[0m\u001b[0m\n",
      "\u001b[1;31mFileNotFoundError\u001b[0m: [Errno 2] No such file or directory: 'amritkuma'"
     ]
    }
   ],
   "source": [
    "#another example of above concept (raise vs #raise in except section)\n",
    "try:\n",
    "    with open(\"amritkuma\") as f:\n",
    "        print(\"hi\")\n",
    "except:\n",
    "    print(sys.exc_info())\n",
    "    raise"
   ]
  },
  {
   "cell_type": "code",
   "execution_count": 19,
   "metadata": {
    "collapsed": true
   },
   "outputs": [],
   "source": [
    "import contextlib\n",
    "#making a function ---> a context manager with inbuilt decorator\n",
    "\n",
    "op=(x for x in range(1,7))  # creating a generator\n",
    "\n",
    "@contextlib.contextmanager\n",
    "def coolfn():\n",
    "    print(\"hi\")\n",
    "    yield next(op)                    #after yield,part of __exit__ ,till yield,part of __enter__\n",
    "    print('hello')\n"
   ]
  },
  {
   "cell_type": "code",
   "execution_count": 20,
   "metadata": {},
   "outputs": [
    {
     "name": "stdout",
     "output_type": "stream",
     "text": [
      "hi\n",
      "1\n",
      "hello\n"
     ]
    }
   ],
   "source": [
    "#Executing the function context manager\n",
    "with coolfn() as fi:\n",
    "    p=fi\n",
    "    print(p)"
   ]
  },
  {
   "cell_type": "code",
   "execution_count": 21,
   "metadata": {
    "collapsed": true
   },
   "outputs": [],
   "source": [
    "#TO-DO exercise of context manager using Connection and Transaction"
   ]
  },
  {
   "cell_type": "code",
   "execution_count": 22,
   "metadata": {
    "collapsed": true
   },
   "outputs": [],
   "source": [
    "@contextlib.contextmanager\n",
    "def myOOO(name,propagate):\n",
    "    try:\n",
    "        print(\"I am in \" + name)\n",
    "        yield\n",
    "        print (name + \" normal exit\")\n",
    "    except:\n",
    "        print(name + \" exception exit\")\n",
    "        if propagate:\n",
    "            raise"
   ]
  },
  {
   "cell_type": "code",
   "execution_count": 23,
   "metadata": {},
   "outputs": [
    {
     "name": "stdout",
     "output_type": "stream",
     "text": [
      "I am in outer\n",
      "I am in inner\n",
      "inner exception exit\n",
      "outer exception exit\n"
     ]
    },
    {
     "ename": "ValueError",
     "evalue": "not my cup of tea",
     "output_type": "error",
     "traceback": [
      "\u001b[1;31m---------------------------------------------------------------------------\u001b[0m",
      "\u001b[1;31mValueError\u001b[0m                                Traceback (most recent call last)",
      "\u001b[1;32m<ipython-input-23-22a7369761bc>\u001b[0m in \u001b[0;36m<module>\u001b[1;34m()\u001b[0m\n\u001b[0;32m      1\u001b[0m \u001b[1;32mwith\u001b[0m \u001b[0mmyOOO\u001b[0m\u001b[1;33m(\u001b[0m\u001b[1;34m\"outer\"\u001b[0m\u001b[1;33m,\u001b[0m\u001b[1;32mTrue\u001b[0m\u001b[1;33m)\u001b[0m\u001b[1;33m,\u001b[0m\u001b[0mmyOOO\u001b[0m\u001b[1;33m(\u001b[0m\u001b[1;34m\"inner\"\u001b[0m\u001b[1;33m,\u001b[0m\u001b[1;32mTrue\u001b[0m\u001b[1;33m)\u001b[0m\u001b[1;33m:\u001b[0m\u001b[1;33m\u001b[0m\u001b[0m\n\u001b[1;32m----> 2\u001b[1;33m     \u001b[1;32mraise\u001b[0m \u001b[0mValueError\u001b[0m\u001b[1;33m(\u001b[0m\u001b[1;34m\"not my cup of tea\"\u001b[0m\u001b[1;33m)\u001b[0m\u001b[1;33m\u001b[0m\u001b[0m\n\u001b[0m",
      "\u001b[1;31mValueError\u001b[0m: not my cup of tea"
     ]
    }
   ],
   "source": [
    "with myOOO(\"outer\",True),myOOO(\"inner\",True):\n",
    "    raise ValueError(\"not my cup of tea\")"
   ]
  },
  {
   "cell_type": "code",
   "execution_count": 27,
   "metadata": {},
   "outputs": [
    {
     "name": "stdout",
     "output_type": "stream",
     "text": [
      "I am in outer\n",
      "I am in inner\n",
      "inner exception exit\n",
      "outer normal exit\n"
     ]
    }
   ],
   "source": [
    "with myOOO(\"outer\",True),myOOO(\"inner\",False):\n",
    "    raise ValueError(\"not my cup of tea\")"
   ]
  },
  {
   "cell_type": "code",
   "execution_count": 28,
   "metadata": {
    "scrolled": true
   },
   "outputs": [
    {
     "name": "stdout",
     "output_type": "stream",
     "text": [
      "I am in outer\n",
      "I am in inner\n",
      "HI\n",
      "inner normal exit\n",
      "outer normal exit\n"
     ]
    }
   ],
   "source": [
    "with myOOO(\"outer\",False),myOOO(\"inner\",False):\n",
    "    print(\"HI\")"
   ]
  },
  {
   "cell_type": "markdown",
   "metadata": {},
   "source": [
    "# Functional programming"
   ]
  },
  {
   "cell_type": "code",
   "execution_count": 29,
   "metadata": {},
   "outputs": [
    {
     "name": "stdout",
     "output_type": "stream",
     "text": [
      "5\n",
      "8\n"
     ]
    }
   ],
   "source": [
    "#1 function composition (A function takes another function object as parameter )\n",
    "def f(x):\n",
    "    return x+2\n",
    "\n",
    "def g(x,y):\n",
    "    return x(y) + y\n",
    "\n",
    "print(f(3))\n",
    "print(g(f,3))"
   ]
  },
  {
   "cell_type": "code",
   "execution_count": 30,
   "metadata": {},
   "outputs": [
    {
     "name": "stdout",
     "output_type": "stream",
     "text": [
      "<function f.<locals>._ at 0x0000026A2A4D0B70>\n",
      "5\n"
     ]
    }
   ],
   "source": [
    "#2 function closure (A function returns a function object)\n",
    "def f(x):\n",
    "    def _(y):\n",
    "        return x+y\n",
    "    return _\n",
    "\n",
    "print(f(2))\n",
    "print(f(2)(3))"
   ]
  },
  {
   "cell_type": "code",
   "execution_count": 31,
   "metadata": {},
   "outputs": [
    {
     "name": "stdout",
     "output_type": "stream",
     "text": [
      "7\n"
     ]
    }
   ],
   "source": [
    "def f(x,y):\n",
    "    return x+y\n",
    "\n",
    "#partial is an example of closure\n",
    "from functools import partial\n",
    "\n",
    "z=partial(f)\n",
    "h=z(3,4)\n",
    "print(h)"
   ]
  },
  {
   "cell_type": "code",
   "execution_count": 32,
   "metadata": {},
   "outputs": [
    {
     "name": "stdout",
     "output_type": "stream",
     "text": [
      "<function out.<locals>._ at 0x0000026A2A4C00D0>\n",
      "5\n"
     ]
    }
   ],
   "source": [
    "#3 function currying\n",
    "def f(x,y):\n",
    "    return x+y\n",
    "\n",
    "def out(x):\n",
    "    def _(y):\n",
    "        return f(x,y)\n",
    "    return _\n",
    "\n",
    "print(out(2))\n",
    "print(out(2)(3))"
   ]
  },
  {
   "cell_type": "markdown",
   "metadata": {},
   "source": [
    "# Playing around with Decorators"
   ]
  },
  {
   "cell_type": "code",
   "execution_count": 35,
   "metadata": {},
   "outputs": [
    {
     "name": "stdout",
     "output_type": "stream",
     "text": [
      "logging function: sim\n",
      "Amrit and Ronnee\n"
     ]
    }
   ],
   "source": [
    "import functools\n",
    "def mydec(f):\n",
    "    @functools.wraps(f)\n",
    "    def _(*args,**kwargs):\n",
    "        print(f\"logging function: {f.__name__}\")\n",
    "        return f(*args,**kwargs)\n",
    "    return _\n",
    "\n",
    "@mydec\n",
    "def sim(x,y):\n",
    "    print(f\"{x} and {y}\")\n",
    "    \n",
    "sim(\"Amrit\",\"Ronnee\")"
   ]
  },
  {
   "cell_type": "code",
   "execution_count": 37,
   "metadata": {},
   "outputs": [
    {
     "name": "stdout",
     "output_type": "stream",
     "text": [
      "Logging call of function: [ marry ] at timestamp ** Tue Jun 29 16:02:28 2021 ** with arguments: {'x': 'Amrit', 'y': 'Ronnee'}\n",
      "\t Stored output for debugging purpose:- [Amrit married Ronnee]\n",
      "\n"
     ]
    },
    {
     "data": {
      "text/plain": [
       "'Amrit married Ronnee'"
      ]
     },
     "execution_count": 37,
     "metadata": {},
     "output_type": "execute_result"
    }
   ],
   "source": [
    "import time,functools\n",
    "def mydebugger(f):\n",
    "    \"\"\"my simple debugger\"\"\"\n",
    "    @functools.wraps(f)\n",
    "    \n",
    "    def tmstamp():\n",
    "        return time.asctime(time.localtime())\n",
    "    \n",
    "    def _(*args,**kwargs):\n",
    "        print(f\"Logging call of function: [ {f.__name__} ] at timestamp ** {tmstamp()} ** with arguments:\",end=' ')\n",
    "\n",
    "        if bool(args):\n",
    "            print(args)\n",
    "        if bool(kwargs):\n",
    "            print(kwargs)\n",
    "            \n",
    "        tmp= f(*args,**kwargs)\n",
    "        print(f\"\\t Stored output for debugging purpose:- [{tmp}]\",end='\\n\\n')\n",
    "        return tmp\n",
    "    return _\n",
    "\n",
    "\n",
    "@mydebugger\n",
    "def marry(x=None,y=None):\n",
    "    \"\"\"My simple marriage Function\"\"\"\n",
    "    result =f\"{x} married {y}\"\n",
    "    return result\n",
    "    \n",
    "op=marry(x=\"Amrit\",y=\"Ronnee\")\n",
    "op"
   ]
  },
  {
   "cell_type": "markdown",
   "metadata": {},
   "source": [
    "# A quick exercise on chain,zip,map,generator,tuple unpacking"
   ]
  },
  {
   "cell_type": "code",
   "execution_count": 38,
   "metadata": {},
   "outputs": [
    {
     "data": {
      "text/plain": [
       "[('A', '65'), ('B', '66'), ('C', '67'), ('D', '68'), ('E', '69'), ('F', '70')]"
      ]
     },
     "execution_count": 38,
     "metadata": {},
     "output_type": "execute_result"
    }
   ],
   "source": [
    "myn=(x for x in range(65,71))\n",
    "myl=[(chr(x),str(x)) for x in myn]\n",
    "myl"
   ]
  },
  {
   "cell_type": "code",
   "execution_count": 39,
   "metadata": {
    "collapsed": true
   },
   "outputs": [],
   "source": [
    "header=('alphabet','value')"
   ]
  },
  {
   "cell_type": "code",
   "execution_count": 40,
   "metadata": {},
   "outputs": [
    {
     "data": {
      "text/plain": [
       "[('alphabet', 'value'),\n",
       " ('A', '65'),\n",
       " ('B', '66'),\n",
       " ('C', '67'),\n",
       " ('D', '68'),\n",
       " ('E', '69'),\n",
       " ('F', '70')]"
      ]
     },
     "execution_count": 40,
     "metadata": {},
     "output_type": "execute_result"
    }
   ],
   "source": [
    "from itertools import chain\n",
    "k=chain([header],myl)\n",
    "s=list(k)\n",
    "s"
   ]
  },
  {
   "cell_type": "code",
   "execution_count": 41,
   "metadata": {},
   "outputs": [
    {
     "data": {
      "text/plain": [
       "[('alphabet', 'A', 'B', 'C', 'D', 'E', 'F'),\n",
       " ('value', '65', '66', '67', '68', '69', '70')]"
      ]
     },
     "execution_count": 41,
     "metadata": {},
     "output_type": "execute_result"
    }
   ],
   "source": [
    "rev=list(zip(*s))\n",
    "rev"
   ]
  },
  {
   "cell_type": "code",
   "execution_count": 42,
   "metadata": {},
   "outputs": [
    {
     "data": {
      "text/plain": [
       "[8, 5]"
      ]
     },
     "execution_count": 42,
     "metadata": {},
     "output_type": "execute_result"
    }
   ],
   "source": [
    "column_widths = [max( map(len, column) ) for column in rev]\n",
    "column_widths"
   ]
  },
  {
   "cell_type": "code",
   "execution_count": 43,
   "metadata": {},
   "outputs": [
    {
     "data": {
      "text/plain": [
       "<generator object <genexpr> at 0x0000026A2A403E60>"
      ]
     },
     "execution_count": 43,
     "metadata": {},
     "output_type": "execute_result"
    }
   ],
   "source": [
    "column_specs = ('{{:{w}}}'.format(w=width) for width in column_widths)\n",
    "column_specs"
   ]
  },
  {
   "cell_type": "code",
   "execution_count": 44,
   "metadata": {},
   "outputs": [
    {
     "data": {
      "text/plain": [
       "'{:8} {:5}'"
      ]
     },
     "execution_count": 44,
     "metadata": {},
     "output_type": "execute_result"
    }
   ],
   "source": [
    "format_spec = ' '.join(column_specs)\n",
    "format_spec"
   ]
  },
  {
   "cell_type": "code",
   "execution_count": 45,
   "metadata": {},
   "outputs": [
    {
     "name": "stdout",
     "output_type": "stream",
     "text": [
      "alphabet value\n"
     ]
    }
   ],
   "source": [
    "print(format_spec.format(*header))"
   ]
  },
  {
   "cell_type": "code",
   "execution_count": 46,
   "metadata": {},
   "outputs": [
    {
     "name": "stdout",
     "output_type": "stream",
     "text": [
      "-------- -----\n"
     ]
    }
   ],
   "source": [
    "rules = ('-' * width for width in column_widths)\n",
    "print(format_spec.format(*rules))"
   ]
  },
  {
   "cell_type": "code",
   "execution_count": 47,
   "metadata": {
    "scrolled": true
   },
   "outputs": [
    {
     "name": "stdout",
     "output_type": "stream",
     "text": [
      "alphabet value\n",
      "-------- -----\n",
      "A        65   \n",
      "B        66   \n",
      "C        67   \n",
      "D        68   \n",
      "E        69   \n",
      "F        70   \n"
     ]
    }
   ],
   "source": [
    "print(format_spec.format(*header))\n",
    "rules = ('-' * width for width in column_widths)\n",
    "print(format_spec.format(*rules))\n",
    "for row in myl:\n",
    "    print(format_spec.format(*row))"
   ]
  },
  {
   "cell_type": "markdown",
   "metadata": {},
   "source": [
    "# Generator vs Coroutine"
   ]
  },
  {
   "cell_type": "code",
   "execution_count": 5,
   "metadata": {},
   "outputs": [
    {
     "name": "stdout",
     "output_type": "stream",
     "text": [
      "\n"
     ]
    }
   ],
   "source": [
    "\"\"\"\n",
    "#generator function normally yields something from predefined list,files i.e hardcoded .you can't change at runtime\n",
    "syntax(use yield as a statement):-\n",
    "yield \"something\"\n",
    "\n",
    "#coroutine is special type of generator, where you can pass data back to generator at runtime. special functions used to do so \n",
    "are:- send() , throw() ,close()\n",
    "\n",
    "syntax(use yield as a expression):-\n",
    "n= yield \"something\"\n",
    "\"\"\"\n",
    "print()"
   ]
  },
  {
   "cell_type": "code",
   "execution_count": 48,
   "metadata": {},
   "outputs": [
    {
     "name": "stdout",
     "output_type": "stream",
     "text": [
      "Use  iter and StopIteration programatically\n"
     ]
    }
   ],
   "source": [
    "\"\"\"\n",
    ">>> letters = [\"a\", \"b\", \"c\", \"y\"]\n",
    ">>> it = iter(letters)\n",
    ">>> while True:\n",
    "...     try:\n",
    "...         letter = next(it)\n",
    "...     except StopIteration:\n",
    "...         break\n",
    "...     print(letter)\n",
    "\"\"\"\n",
    "#iter is a generator.  A generator raises StopIteration, if we still try to iterate  over an exhausted generator\n",
    "print(\"Use  iter and StopIteration programatically\")"
   ]
  },
  {
   "cell_type": "code",
   "execution_count": 49,
   "metadata": {
    "collapsed": true
   },
   "outputs": [],
   "source": [
    "def is_palindrome(num):\n",
    "    # Skip single-digit inputs\n",
    "    if num // 10 == 0:\n",
    "        return False\n",
    "    temp = num\n",
    "    reversed_num = 0\n",
    "\n",
    "    while temp != 0:\n",
    "        reversed_num = (reversed_num * 10) + (temp % 10)\n",
    "        temp = temp // 10\n",
    "\n",
    "    if num == reversed_num:\n",
    "        return True\n",
    "    else:\n",
    "        return False\n",
    "    \n",
    "def infinite_palindromes():\n",
    "    num = 0\n",
    "    while True:\n",
    "        if is_palindrome(num):\n",
    "            i = (yield num)\n",
    "            if i is not None:\n",
    "                num = i\n",
    "        num += 1"
   ]
  },
  {
   "cell_type": "code",
   "execution_count": null,
   "metadata": {
    "collapsed": true
   },
   "outputs": [],
   "source": [
    "#use send()    #the below code will run infinitely\n",
    "pal_gen = infinite_palindromes()\n",
    "for x in pal_gen:\n",
    "    print(x)\n",
    "    digits = len(str(x))\n",
    "    pal_gen.send(10 ** (digits))"
   ]
  },
  {
   "cell_type": "code",
   "execution_count": 6,
   "metadata": {},
   "outputs": [
    {
     "name": "stdout",
     "output_type": "stream",
     "text": [
      "\n"
     ]
    }
   ],
   "source": [
    "\"\"\"\n",
    "With this code, you create the generator object and iterate through it. The program only yields a value once a palindrome \n",
    "is found. It uses len() to determine the number of digits in that palindrome. Then, it sends 10 ** digits to the generator. \n",
    "This brings execution back into the generator logic and assigns 10 ** digits to i. Since i now has a value, the program \n",
    "updates num, increments, and checks for palindromes again.\n",
    "\n",
    "Once your code finds and yields another palindrome, you’ll iterate via the for loop. This is the same as iterating with next(). \n",
    "The generator also picks up at line 5 with i = (yield num). However, now i is None, because you didn’t explicitly send a value.\n",
    "\n",
    "What you’ve created here is a coroutine, or a generator function into which you can pass data. These are useful for constructing\n",
    "data pipelines, but as you’ll see soon, they aren’t necessary for building them. (If you’re looking to dive deeper, then this \n",
    "course on coroutines and concurrency is one of the most comprehensive treatments available.)\n",
    "\"\"\"\n",
    "print()"
   ]
  },
  {
   "cell_type": "code",
   "execution_count": 50,
   "metadata": {},
   "outputs": [
    {
     "name": "stdout",
     "output_type": "stream",
     "text": [
      "11\n",
      "111\n",
      "1111\n",
      "10101\n"
     ]
    },
    {
     "ename": "ValueError",
     "evalue": "We don't like large palindromes",
     "output_type": "error",
     "traceback": [
      "\u001b[1;31m---------------------------------------------------------------------------\u001b[0m",
      "\u001b[1;31mValueError\u001b[0m                                Traceback (most recent call last)",
      "\u001b[1;32m<ipython-input-50-3e91c1d80888>\u001b[0m in \u001b[0;36m<module>\u001b[1;34m()\u001b[0m\n\u001b[0;32m      5\u001b[0m     \u001b[0mdigits\u001b[0m \u001b[1;33m=\u001b[0m \u001b[0mlen\u001b[0m\u001b[1;33m(\u001b[0m\u001b[0mstr\u001b[0m\u001b[1;33m(\u001b[0m\u001b[0mx\u001b[0m\u001b[1;33m)\u001b[0m\u001b[1;33m)\u001b[0m\u001b[1;33m\u001b[0m\u001b[0m\n\u001b[0;32m      6\u001b[0m     \u001b[1;32mif\u001b[0m \u001b[0mdigits\u001b[0m \u001b[1;33m==\u001b[0m \u001b[1;36m5\u001b[0m\u001b[1;33m:\u001b[0m\u001b[1;33m\u001b[0m\u001b[0m\n\u001b[1;32m----> 7\u001b[1;33m         \u001b[0mpal_gen\u001b[0m\u001b[1;33m.\u001b[0m\u001b[0mthrow\u001b[0m\u001b[1;33m(\u001b[0m\u001b[0mValueError\u001b[0m\u001b[1;33m(\u001b[0m\u001b[1;34m\"We don't like large palindromes\"\u001b[0m\u001b[1;33m)\u001b[0m\u001b[1;33m)\u001b[0m\u001b[1;33m\u001b[0m\u001b[0m\n\u001b[0m\u001b[0;32m      8\u001b[0m     \u001b[0mpal_gen\u001b[0m\u001b[1;33m.\u001b[0m\u001b[0msend\u001b[0m\u001b[1;33m(\u001b[0m\u001b[1;36m10\u001b[0m \u001b[1;33m**\u001b[0m \u001b[1;33m(\u001b[0m\u001b[0mdigits\u001b[0m\u001b[1;33m)\u001b[0m\u001b[1;33m)\u001b[0m\u001b[1;33m\u001b[0m\u001b[0m\n",
      "\u001b[1;32m<ipython-input-49-3ee3ad286731>\u001b[0m in \u001b[0;36minfinite_palindromes\u001b[1;34m()\u001b[0m\n\u001b[0;32m     19\u001b[0m     \u001b[1;32mwhile\u001b[0m \u001b[1;32mTrue\u001b[0m\u001b[1;33m:\u001b[0m\u001b[1;33m\u001b[0m\u001b[0m\n\u001b[0;32m     20\u001b[0m         \u001b[1;32mif\u001b[0m \u001b[0mis_palindrome\u001b[0m\u001b[1;33m(\u001b[0m\u001b[0mnum\u001b[0m\u001b[1;33m)\u001b[0m\u001b[1;33m:\u001b[0m\u001b[1;33m\u001b[0m\u001b[0m\n\u001b[1;32m---> 21\u001b[1;33m             \u001b[0mi\u001b[0m \u001b[1;33m=\u001b[0m \u001b[1;33m(\u001b[0m\u001b[1;32myield\u001b[0m \u001b[0mnum\u001b[0m\u001b[1;33m)\u001b[0m\u001b[1;33m\u001b[0m\u001b[0m\n\u001b[0m\u001b[0;32m     22\u001b[0m             \u001b[1;32mif\u001b[0m \u001b[0mi\u001b[0m \u001b[1;32mis\u001b[0m \u001b[1;32mnot\u001b[0m \u001b[1;32mNone\u001b[0m\u001b[1;33m:\u001b[0m\u001b[1;33m\u001b[0m\u001b[0m\n\u001b[0;32m     23\u001b[0m                 \u001b[0mnum\u001b[0m \u001b[1;33m=\u001b[0m \u001b[0mi\u001b[0m\u001b[1;33m\u001b[0m\u001b[0m\n",
      "\u001b[1;31mValueError\u001b[0m: We don't like large palindromes"
     ]
    }
   ],
   "source": [
    "#use throw()\n",
    "pal_gen = infinite_palindromes()\n",
    "for x in pal_gen:\n",
    "    print(x)\n",
    "    digits = len(str(x))\n",
    "    if digits == 5:\n",
    "        pal_gen.throw(ValueError(\"We don't like large palindromes\"))\n",
    "    pal_gen.send(10 ** (digits))"
   ]
  },
  {
   "cell_type": "code",
   "execution_count": 51,
   "metadata": {
    "scrolled": true
   },
   "outputs": [
    {
     "name": "stdout",
     "output_type": "stream",
     "text": [
      "11\n",
      "111\n",
      "1111\n",
      "10101\n"
     ]
    },
    {
     "ename": "StopIteration",
     "evalue": "",
     "output_type": "error",
     "traceback": [
      "\u001b[1;31m---------------------------------------------------------------------------\u001b[0m",
      "\u001b[1;31mStopIteration\u001b[0m                             Traceback (most recent call last)",
      "\u001b[1;32m<ipython-input-51-8fbfe3128181>\u001b[0m in \u001b[0;36m<module>\u001b[1;34m()\u001b[0m\n\u001b[0;32m      6\u001b[0m     \u001b[1;32mif\u001b[0m \u001b[0mdigits\u001b[0m \u001b[1;33m==\u001b[0m \u001b[1;36m5\u001b[0m\u001b[1;33m:\u001b[0m\u001b[1;33m\u001b[0m\u001b[0m\n\u001b[0;32m      7\u001b[0m         \u001b[0mpal_gen\u001b[0m\u001b[1;33m.\u001b[0m\u001b[0mclose\u001b[0m\u001b[1;33m(\u001b[0m\u001b[1;33m)\u001b[0m\u001b[1;33m\u001b[0m\u001b[0m\n\u001b[1;32m----> 8\u001b[1;33m     \u001b[0mpal_gen\u001b[0m\u001b[1;33m.\u001b[0m\u001b[0msend\u001b[0m\u001b[1;33m(\u001b[0m\u001b[1;36m10\u001b[0m \u001b[1;33m**\u001b[0m \u001b[1;33m(\u001b[0m\u001b[0mdigits\u001b[0m\u001b[1;33m)\u001b[0m\u001b[1;33m)\u001b[0m\u001b[1;33m\u001b[0m\u001b[0m\n\u001b[0m",
      "\u001b[1;31mStopIteration\u001b[0m: "
     ]
    }
   ],
   "source": [
    "#use close()\n",
    "pal_gen = infinite_palindromes()\n",
    "for i in pal_gen:\n",
    "    print(i)\n",
    "    digits = len(str(i))\n",
    "    if digits == 5:\n",
    "        pal_gen.close()\n",
    "    pal_gen.send(10 ** (digits))"
   ]
  },
  {
   "cell_type": "markdown",
   "metadata": {},
   "source": [
    "# Interesting Programs asked in Interviews"
   ]
  },
  {
   "cell_type": "code",
   "execution_count": 52,
   "metadata": {},
   "outputs": [
    {
     "data": {
      "text/plain": [
       "[('d', 1), ('c', 2), ('a', 3), ('b', 4)]"
      ]
     },
     "execution_count": 52,
     "metadata": {},
     "output_type": "execute_result"
    }
   ],
   "source": [
    "#sort a dictionary according to its values < With O(nlogn) as sorting is O(nlogn) >\n",
    "#Raw-Coding\n",
    "\n",
    "d={'a':3,'b':4,'c':2,'d':1}\n",
    "tmp=[(x,y) for x,y in sorted(d.items(),key=lambda a:a[1])]\n",
    "tmp"
   ]
  },
  {
   "cell_type": "code",
   "execution_count": 53,
   "metadata": {},
   "outputs": [
    {
     "data": {
      "text/plain": [
       "OrderedDict([('d', 1), ('c', 2), ('a', 3), ('b', 4)])"
      ]
     },
     "execution_count": 53,
     "metadata": {},
     "output_type": "execute_result"
    }
   ],
   "source": [
    "#sort a dictionary according to its values < With O(nlogn) as sorting is O(nlogn) >\n",
    "#Using a utility module of python\n",
    "\n",
    "from collections import OrderedDict\n",
    "k=OrderedDict( sorted(d.items(), key=lambda a:a[1]) )\n",
    "k"
   ]
  },
  {
   "cell_type": "code",
   "execution_count": 54,
   "metadata": {},
   "outputs": [
    {
     "name": "stdout",
     "output_type": "stream",
     "text": [
      "False <-- b is not subset of a\n",
      "True <-- c is subset of a\n"
     ]
    },
    {
     "data": {
      "text/plain": [
       "True"
      ]
     },
     "execution_count": 54,
     "metadata": {},
     "output_type": "execute_result"
    }
   ],
   "source": [
    "#If a sequence is subset of other sequence (With O(n) complexity)\n",
    "#Raw-Coding\n",
    "\n",
    "a=[1,2,3,4,5]\n",
    "b=[1,2,6]\n",
    "c=[1,2,5]\n",
    "\n",
    "def subsetfn(inp_seq,super_seq):\n",
    "    zz={i:1 for i in super_seq}               #--> O(n)\n",
    "    for item in inp_seq:                      #--> O(n)\n",
    "        if zz.get(item,None) is None:        #--> O(1)\n",
    "            return False\n",
    "    return True\n",
    "\n",
    "print(subsetfn(b,a) ,\"<-- b is not subset of a\")\n",
    "print(subsetfn(c,a) ,\"<-- c is subset of a\")\n",
    "\n",
    "#or with set\n",
    "\n",
    "l={1,2,3,4}\n",
    "k={2,3}\n",
    "k.issubset(l)\n"
   ]
  },
  {
   "cell_type": "code",
   "execution_count": 55,
   "metadata": {},
   "outputs": [
    {
     "name": "stdout",
     "output_type": "stream",
     "text": [
      "120 <-- raw coding\n",
      "120 <-- with reduce\n"
     ]
    }
   ],
   "source": [
    "#find the product of all values of a dictionary (With O(n) complexity)\n",
    "\n",
    "dt = {'value1':5, 'value2':4, 'value3':3, 'value4':2, 'value5':1}\n",
    "\n",
    "j=1\n",
    "for i,v in dt.items():\n",
    "    j=j*v\n",
    "print(j,\"<-- raw coding\")\n",
    "\n",
    "#-->  OR\n",
    "\n",
    "from functools import reduce\n",
    "j=reduce(lambda x,y : x*y ,dt.values())\n",
    "print(j, \"<-- with reduce\")"
   ]
  },
  {
   "cell_type": "markdown",
   "metadata": {},
   "source": [
    "# Playing around with Socket Module"
   ]
  },
  {
   "cell_type": "code",
   "execution_count": 56,
   "metadata": {},
   "outputs": [
    {
     "name": "stdout",
     "output_type": "stream",
     "text": [
      "Socket Module\n"
     ]
    }
   ],
   "source": [
    "\"\"\"\n",
    "##https://realpython.com/python-sockets/\n",
    "\n",
    "Why should you use TCP? The Transmission Control Protocol (TCP): (socket.SOCK_STREAM)\n",
    "Is reliable: packets dropped in the network are detected and retransmitted by the sender.\n",
    "Has in-order data delivery: data is read by your application in the order it was written by the sender.\n",
    "**\n",
    "In contrast, User Datagram Protocol (UDP) sockets created with socket.SOCK_DGRAM aren’t reliable, and data read by the receiver \\\n",
    "    can be out-of-order from the sender’s writes.\n",
    "**\n",
    "-we’re using socket.AF_INET (IPv4). So it expects a 2-tuple: (host, port)\n",
    "-port should be an integer from 1-65535 (0 is reserved)\n",
    "-listen() has a backlog parameter. It specifies the number of unaccepted connections that the system will allow before \\\n",
    "    refusing new connections\n",
    "-accept() blocks and waits for an incoming connection. When a client connects, it returns a new socket object(a tuple) \\\n",
    "    representing the connection and the address of the client.\n",
    "\n",
    "**\n",
    "\n",
    "$ lsof -i -n\n",
    "COMMAND     PID   USER   FD   TYPE   DEVICE SIZE/OFF NODE NAME\n",
    "Python    67982 nathan    3u  IPv4 0xecf272      0t0  TCP *:65432 (LISTEN)\n",
    "\n",
    "---\n",
    "$ netstat -an\n",
    "Active Internet connections (including servers)\n",
    "Proto Recv-Q Send-Q  Local Address          Foreign Address        (state)\n",
    "tcp4       0      0  *.65432                *.*                    LISTEN\n",
    "\n",
    "**\n",
    "Socket API Overview\n",
    "The primary socket API functions and methods in this module are:\n",
    "socket()\n",
    "bind()\n",
    "listen()\n",
    "accept()\n",
    "connect()\n",
    "connect_ex()\n",
    "send()\n",
    "recv()\n",
    "close()\n",
    "\n",
    "\"\"\"\n",
    "print(\"Socket Module\")"
   ]
  },
  {
   "cell_type": "raw",
   "metadata": {},
   "source": [
    "#server program (We have to create a server.py and put the below code) --> python server.py\n",
    "#It won't run from Jupiter\n",
    "\n",
    "import socket\n",
    "with socket.socket(socket.AF_INET,socket.SOCK_STREAM) as sock:\n",
    "    sock.bind(('127.0.0.1',62834))\n",
    "    sock.listen()\n",
    "    conn,ip = sock.accept()\n",
    "    with conn:\n",
    "        print (\"connected to \",ip)\n",
    "        while True:\n",
    "            data = conn.recv(1024)\n",
    "            if not data:\n",
    "                break\n",
    "            conn.sendall(data)"
   ]
  },
  {
   "cell_type": "raw",
   "metadata": {},
   "source": [
    "#client program (We have to create a server.py and put the below code) --> python client.py\n",
    "#It won't run from Jupiter\n",
    "\n",
    "import socket\n",
    "with socket(socket.AF_INET,socket.SOCK_STREAM) as s:\n",
    "    s.connect(('127.0.0.1',62834))\n",
    "    s.sendall(b'Hello World')\n",
    "    data = s.recv(1024)\n",
    "    \n",
    "print('Received',repr(data))\n"
   ]
  },
  {
   "cell_type": "markdown",
   "metadata": {},
   "source": [
    "# Threading"
   ]
  },
  {
   "cell_type": "code",
   "execution_count": 58,
   "metadata": {},
   "outputs": [
    {
     "name": "stdout",
     "output_type": "stream",
     "text": [
      "0I am 0\n",
      " <-- starting value\n",
      "I am 1\n",
      "Done :0\n",
      "\n",
      "Done :1\n",
      "\n",
      "1 <-- final value\n"
     ]
    }
   ],
   "source": [
    "#Threading Example No Lock\n",
    "import threading,time\n",
    "\n",
    "class FakeDatabaseNoLock:\n",
    "    \n",
    "    def __init__(self):\n",
    "        self._x =0\n",
    "        \n",
    "    def updateDB(self,value):\n",
    "        print(\"I am \" + str(value))\n",
    "        y = self._x\n",
    "        y+=1\n",
    "        time.sleep(1)\n",
    "        self._x = y\n",
    "        print(\"Done :\" + str(value)+\"\\n\")\n",
    "        \n",
    "tran = FakeDatabaseNoLock()\n",
    "\n",
    "print(tran._x,\"<-- starting value\")\n",
    "\n",
    "threads =[]\n",
    "for i in range(2):\n",
    "    x =threading.Thread(target=tran.updateDB, args=(i,))\n",
    "    threads.append(x)\n",
    "    x.start()\n",
    "    \n",
    "for item in threads:\n",
    "    item.join()\n",
    "    \n",
    "print(tran._x,\"<-- final value\")"
   ]
  },
  {
   "cell_type": "code",
   "execution_count": 59,
   "metadata": {},
   "outputs": [
    {
     "name": "stdout",
     "output_type": "stream",
     "text": [
      "0I am 0I am 1\n",
      "\n",
      " <-- starting value\n",
      "Done :0\n",
      "\n",
      "Done :1\n",
      "\n",
      "2 <-- final value\n"
     ]
    }
   ],
   "source": [
    "#Threading Example With Lock to handle race conditions for the shared variables between threads\n",
    "#IF a thread is created with Daemon, then it exits, whenever the program exits.\n",
    "#https://realpython.com/intro-to-python-threading/\n",
    "import threading,time\n",
    "\n",
    "class FakeDatabaseWithLock:\n",
    "    \n",
    "    def __init__(self):\n",
    "        self._x =0\n",
    "        self._lock =threading.Lock()\n",
    "        \n",
    "    def updateDB(self,value):\n",
    "        print(\"I am \" + str(value))\n",
    "        with self._lock:\n",
    "            y = self._x\n",
    "            y+=1\n",
    "            time.sleep(1)\n",
    "            self._x = y\n",
    "        print(\"Done :\" + str(value)+\"\\n\")\n",
    "        \n",
    "tran = FakeDatabaseWithLock()\n",
    "\n",
    "print(tran._x,\"<-- starting value\")\n",
    "\n",
    "threads =[]\n",
    "for i in range(2):\n",
    "    x =threading.Thread(target=tran.updateDB, args=(i,))\n",
    "    threads.append(x)\n",
    "    x.start()\n",
    "    \n",
    "for item in threads:\n",
    "    item.join()\n",
    "    \n",
    "print(tran._x,\"<-- final value\")"
   ]
  },
  {
   "cell_type": "code",
   "execution_count": 60,
   "metadata": {},
   "outputs": [
    {
     "name": "stdout",
     "output_type": "stream",
     "text": [
      "Hello\n"
     ]
    }
   ],
   "source": [
    "#Timer on Threads\n",
    "#A Timer can be used to prompt a user for action after a specific amount of time. If the user does the action before \n",
    "#the Timer expires, .cancel() can be called.\n",
    "\n",
    "def hello(msg):\n",
    "    print(msg)\n",
    "my_t = threading.Timer(5.0, hello,args=('Hello',))\n",
    "\n",
    "my_t.start()\n",
    "#my_t.cancel()  <-- can be called before 5 seconds to cancel the timer thread"
   ]
  },
  {
   "cell_type": "code",
   "execution_count": 61,
   "metadata": {
    "collapsed": true
   },
   "outputs": [
    {
     "name": "stdout",
     "output_type": "stream",
     "text": [
      "Starting Something serious\n",
      "\n",
      "\n",
      "producer sending msg :10\n",
      "producer sending msg :39\n",
      "producer sending msg :43\n",
      "producer sending msg :24\n",
      "producer sending msg :35\n",
      "producer sending msg :43\n",
      "\n",
      "\n",
      "Main about to set event\n",
      "\n",
      "\n",
      "Consumer:Event is set.But still need to process the queue entirely.\n",
      "\n",
      "\n",
      "producer got event msg.Exiting..\n",
      "\n",
      "\n",
      "Consumer received msg :10 . Queue size is 4\n",
      "Consumer:Event is set.But still need to process the queue entirely.\n",
      "\n",
      "\n",
      "Consumer received msg :39 . Queue size is 3\n",
      "Consumer:Event is set.But still need to process the queue entirely.\n",
      "\n",
      "\n",
      "Consumer received msg :43 . Queue size is 2\n",
      "Consumer:Event is set.But still need to process the queue entirely.\n",
      "\n",
      "\n",
      "Consumer received msg :24 . Queue size is 1\n",
      "Consumer:Event is set.But still need to process the queue entirely.\n",
      "\n",
      "\n",
      "Consumer received msg :35 . Queue size is 0\n",
      "\n",
      "Consumer got event msg.Exiting..\n",
      "\n"
     ]
    }
   ],
   "source": [
    "#producer-consumer problem using queue\n",
    "import threading\n",
    "import queue\n",
    "import concurrent.futures\n",
    "import random\n",
    "import time\n",
    "\n",
    "def producer(pipeline,event):\n",
    "    while not event.is_set():\n",
    "        msg = random.randint(1,50)\n",
    "        print(f\"producer sending msg :{msg}\")\n",
    "        pipeline.put(msg)\n",
    "        \n",
    "    print(f\"\\nproducer got event msg.Exiting..\\n\")\n",
    "    \n",
    "def consumer(pipeline,event):\n",
    "    x=True\n",
    "    while not event.is_set() or not pipeline.empty():\n",
    "        if x:  # A manual sleep to see even the event is set,consumer should consume the entire queue.Remove and check\n",
    "            time.sleep(1)\n",
    "            x= False\n",
    "        \n",
    "        if event.is_set():\n",
    "            print(f\"Consumer:Event is set.But still need to process the queue entirely.\\n\\n\")\n",
    "        \n",
    "        msg=pipeline.get()\n",
    "        print(f\"Consumer received msg :{msg} . Queue size is {pipeline.qsize()}\")\n",
    "    \n",
    "    print(f\"\\nConsumer got event msg.Exiting..\\n\")\n",
    "\n",
    "print(\"Starting Something serious\\n\\n\")\n",
    "pipeline = queue.Queue(maxsize=5)\n",
    "event = threading.Event()\n",
    "\n",
    "with concurrent.futures.ThreadPoolExecutor(max_workers=2) as executor:\n",
    "    executor.submit(producer,pipeline,event)\n",
    "    executor.submit(consumer,pipeline,event)\n",
    "    \n",
    "    print(\"\\n\\nMain about to set event\\n\\n\")\n",
    "    time.sleep(0.000001)\n",
    "    event.set()\n",
    "    "
   ]
  },
  {
   "cell_type": "markdown",
   "metadata": {},
   "source": [
    "# Exception Handling"
   ]
  },
  {
   "cell_type": "code",
   "execution_count": 24,
   "metadata": {},
   "outputs": [
    {
     "name": "stdout",
     "output_type": "stream",
     "text": [
      "(<class 'FileNotFoundError'>, FileNotFoundError(2, 'No such file or directory'), <traceback object at 0x00000207A58EB3C8>)\n"
     ]
    }
   ],
   "source": [
    "# A very usefool tool of sys module to design your exception handling flow with proper exceptions\n",
    "import sys\n",
    "try:\n",
    "    f=open('amrikuma')\n",
    "except Exception as e:\n",
    "    #gives a tuple of ('exception type','exception msg','exception traceback object')\n",
    "    print(sys.exc_info())"
   ]
  },
  {
   "cell_type": "code",
   "execution_count": 2,
   "metadata": {
    "scrolled": true
   },
   "outputs": [
    {
     "name": "stdout",
     "output_type": "stream",
     "text": [
      "(<class 'NameError'>, NameError(\"name 'bb' is not defined\",), <traceback object at 0x00000207A583C408>)\n"
     ]
    },
    {
     "name": "stderr",
     "output_type": "stream",
     "text": [
      "Traceback (most recent call last):\n",
      "  File \"<ipython-input-2-491482b482a2>\", line 6, in <module>\n",
      "    aa=bb.split()\n",
      "NameError: name 'bb' is not defined\n"
     ]
    }
   ],
   "source": [
    "# A very usefool tool of traceback module to get the traceback codeflow with line_no in case of exception\n",
    "import sys\n",
    "import traceback\n",
    "\n",
    "try:\n",
    "    aa=bb.split()\n",
    "except Exception as msg:\n",
    "    print(sys.exc_info())\n",
    "    traceback.print_exception(*sys.exc_info(),file=sys.stderr) \n",
    "    #you can redirect to some file(instead of sys.stderr) in case you want to"
   ]
  },
  {
   "cell_type": "code",
   "execution_count": 22,
   "metadata": {
    "scrolled": true
   },
   "outputs": [
    {
     "name": "stdout",
     "output_type": "stream",
     "text": [
      "traceback of exception:\n",
      "  File \"<ipython-input-22-a9498593a6aa>\", line 7, in <module>\n",
      "    aa=bb.split()\n",
      "\n",
      "name 'bb' is not defined\n"
     ]
    }
   ],
   "source": [
    "# print traceback in log // Alternative approach with traceback.format_tb\n",
    "\n",
    "import sys\n",
    "import traceback\n",
    "\n",
    "try:\n",
    "    aa=bb.split()\n",
    "except Exception as e:\n",
    "    s=traceback.format_tb(e.__traceback__)\n",
    "    print(\"traceback of exception:\")\n",
    "    print(*s)  #traceback for line numbers\n",
    "    print(e)   #exact error\n",
    "    #log.debug( \"\\n\".join(s) )  <= can use like this"
   ]
  },
  {
   "cell_type": "code",
   "execution_count": 63,
   "metadata": {},
   "outputs": [
    {
     "name": "stdout",
     "output_type": "stream",
     "text": [
      "exception message is invalid literal for int() with base 10: 'amrit'\n",
      "  File \"<ipython-input-63-ff23f98f8f2a>\", line 26, in find_log\n",
      "    v = convert(s)\n",
      "   File \"<ipython-input-63-ff23f98f8f2a>\", line 14, in convert\n",
      "    return int(s)\n",
      "\n",
      "invalid literal for int() with base 10: 'amrit'\n"
     ]
    }
   ],
   "source": [
    "# Good way to write an exception:-\n",
    "import traceback\n",
    "import math\n",
    "\n",
    "def convert(s):\n",
    "    \"\"\"converts to an integer\n",
    "    #Don't use --START ,,              because its worthless to check type and limits dynamic typechecking in python\n",
    "    if not isinstance(s,str):\n",
    "        raise TypeError(\"Argument must be string\")\n",
    "    #Don't use --END\n",
    "    \"\"\"\n",
    "    \n",
    "    try:\n",
    "        return int(s)\n",
    "    except(ValueError,TypeError) as e:\n",
    "        print(\"exception message is {}\".format(str(e)))\n",
    "        \n",
    "        #print(\"exception message is {}\".format(str(e)),file = sys.stderr)  \n",
    "        #   =>Giving sys.stderr will throw to console <red highlight type text in Jupyter.See 2 cell above>\n",
    "        raise\n",
    "\n",
    "#If you don't re-raise like it above, and somebody calls find_log(\"amrit\") , then you will get math exception , which is misleading.\n",
    "#Using raise, will give you type exception when find_log(\"amrit\") is called, which helps you know the real reason.\n",
    "\n",
    "\n",
    "def find_log(s):\n",
    "    \"\"\"gives the log value of an integer\"\"\"\n",
    "    try:\n",
    "        v = convert(s)\n",
    "        return math.log(v)\n",
    "    except Exception as exc:\n",
    "        stack_trace = traceback.format_tb(exc.__traceback__)\n",
    "        print(*stack_trace)\n",
    "        print(exc)\n",
    "\n",
    "find_log(\"amrit\")"
   ]
  },
  {
   "cell_type": "code",
   "execution_count": 16,
   "metadata": {},
   "outputs": [
    {
     "name": "stdout",
     "output_type": "stream",
     "text": [
      "not writable\n",
      "Shut up\n",
      "True\n"
     ]
    }
   ],
   "source": [
    "#Implicit Chaining vs Explicit Chaining  --of Exceptions\n",
    "# __context__ of exception object\n",
    "#Implicit  => automatic association to __context__ of later exception object\n",
    "\n",
    "\n",
    "import sys\n",
    "import io\n",
    "\n",
    "def hye():\n",
    "    raise ValueError(\"Shut up\")\n",
    "    \n",
    "def attempt_hi():\n",
    "    try:\n",
    "        hye()\n",
    "    except ValueError as e:\n",
    "        try:\n",
    "            print(e.args,file=sys.stdin)\n",
    "        except io.UnsupportedOperation as f:\n",
    "            print(f)   #chained exception (IMPLICIT)\n",
    "            print(f.__context__)   #__context__ preserves the previous exception object\n",
    "            print(e is f.__context__)\n",
    "\n",
    "attempt_hi()        "
   ]
  },
  {
   "cell_type": "code",
   "execution_count": 27,
   "metadata": {},
   "outputs": [
    {
     "name": "stdout",
     "output_type": "stream",
     "text": [
      "Slope cannot be vertical\n",
      "division by zero\n"
     ]
    }
   ],
   "source": [
    "#Explicit chaining\n",
    "#Explicit  => we deliberately associate an exception to new exception (__cause__ is changed of later exception object)\n",
    "\n",
    "import math\n",
    "\n",
    "class InclinationError(Exception):\n",
    "    pass\n",
    "\n",
    "def get_slope(x,y):\n",
    "    try:\n",
    "        return math.degrees(math.atan(y / x))\n",
    "    except ZeroDivisionError as e:\n",
    "        raise InclinationError(\"Slope cannot be vertical\") from e\n",
    "\n",
    "try:\n",
    "    get_slope(0,5)\n",
    "except InclinationError as i:\n",
    "    print(i)\n",
    "    print(i.__cause__)     #__cause__ gives the actual reason"
   ]
  },
  {
   "cell_type": "code",
   "execution_count": 35,
   "metadata": {},
   "outputs": [
    {
     "name": "stdout",
     "output_type": "stream",
     "text": [
      "good\n"
     ]
    }
   ],
   "source": [
    "#using assert  (assert True,\"custom msg\")\n",
    "try:\n",
    "    exc_F =False\n",
    "    my_assert =3+2\n",
    "    assert my_assert==5,\"The condition returned true\"  #nothing will be printed as condition is not False\n",
    "except Exception as msg:\n",
    "    print(\"Exception\",msg)\n",
    "    exc_F=True\n",
    "finally:\n",
    "    if exc_F:\n",
    "        print(\"bad\")\n",
    "    else:\n",
    "        print(\"good\")"
   ]
  },
  {
   "cell_type": "code",
   "execution_count": 36,
   "metadata": {},
   "outputs": [
    {
     "name": "stdout",
     "output_type": "stream",
     "text": [
      "Assert Exception The value doesn't match\n",
      "bad\n"
     ]
    }
   ],
   "source": [
    "#using assert (assert False, \"custom message\")\n",
    "\n",
    "try:\n",
    "    exc_F =False\n",
    "    my_assert =3+2\n",
    "    assert my_assert==6,\"The value doesn't match\"  #Assert error will come, as the condition is not satisfied\n",
    "except AssertionError as msg:\n",
    "    print(\"Assert Exception\",msg)\n",
    "    exc_F =True\n",
    "finally:\n",
    "    if exc_F:\n",
    "        print(\"bad\")\n",
    "    else:\n",
    "        print(\"good\")"
   ]
  },
  {
   "cell_type": "markdown",
   "metadata": {},
   "source": [
    "# Different interesting utilities (Cheat Sheet)"
   ]
  },
  {
   "cell_type": "code",
   "execution_count": 66,
   "metadata": {},
   "outputs": [
    {
     "data": {
      "text/plain": [
       "3"
      ]
     },
     "execution_count": 66,
     "metadata": {},
     "output_type": "execute_result"
    }
   ],
   "source": [
    "#How to know the number of references to an object in current namespace\n",
    "#In python:- everything is object, When we create variable,these are just references\n",
    "\n",
    "import sys\n",
    "aaa = [] #creating a list object\n",
    "bbb = aaa\n",
    "sys.getrefcount(aaa) \n",
    "#this 'aaa' is similar to the line above 'aaa' however, this aaa is a local variable to getrefcount().so count=3"
   ]
  },
  {
   "cell_type": "code",
   "execution_count": null,
   "metadata": {
    "collapsed": true
   },
   "outputs": [],
   "source": [
    "#Logger Library Example\n",
    "import logging\n",
    "\n",
    "format = \"%(asctime)s: %(message)s\"\n",
    "logging.basicConfig(format=format, level=logging.INFO, datefmt=\"%H:%M:%S\")\n",
    "logging.getLogger().setLevel(logging.DEBUG)"
   ]
  },
  {
   "cell_type": "code",
   "execution_count": null,
   "metadata": {
    "collapsed": true
   },
   "outputs": [],
   "source": [
    "\"\"\"\n",
    "import threading\n",
    "import logging\n",
    "\n",
    "FORMAT = [%(threadName)s, %(asctime)s, %(levelname)s] %(message)s\n",
    "\n",
    "logging.basicConfig(filename='logfile.log', level=logging.DEBUG,format=FORMAT)\n",
    "\n",
    "logging.info(\"downloaded {} images in {} seconds\".format(len(img_url_list), end - start))\n",
    "\"\"\"\n",
    "print()"
   ]
  },
  {
   "cell_type": "code",
   "execution_count": 7,
   "metadata": {},
   "outputs": [
    {
     "name": "stdout",
     "output_type": "stream",
     "text": [
      "3.6.1\n"
     ]
    }
   ],
   "source": [
    "#get python version\n",
    "from platform import python_version\n",
    "print(python_version())"
   ]
  },
  {
   "cell_type": "code",
   "execution_count": 8,
   "metadata": {
    "collapsed": true
   },
   "outputs": [
    {
     "data": {
      "text/plain": [
       "['',\n",
       " 'C:\\\\Users\\\\amrikuma\\\\AppData\\\\Local\\\\Continuum\\\\Anaconda3\\\\python36.zip',\n",
       " 'C:\\\\Users\\\\amrikuma\\\\AppData\\\\Local\\\\Continuum\\\\Anaconda3\\\\DLLs',\n",
       " 'C:\\\\Users\\\\amrikuma\\\\AppData\\\\Local\\\\Continuum\\\\Anaconda3\\\\lib',\n",
       " 'C:\\\\Users\\\\amrikuma\\\\AppData\\\\Local\\\\Continuum\\\\Anaconda3',\n",
       " 'C:\\\\Users\\\\amrikuma\\\\AppData\\\\Local\\\\Continuum\\\\Anaconda3\\\\lib\\\\site-packages',\n",
       " 'C:\\\\Users\\\\amrikuma\\\\AppData\\\\Local\\\\Continuum\\\\Anaconda3\\\\lib\\\\site-packages\\\\Sphinx-1.5.6-py3.6.egg',\n",
       " 'C:\\\\Users\\\\amrikuma\\\\AppData\\\\Local\\\\Continuum\\\\Anaconda3\\\\lib\\\\site-packages\\\\win32',\n",
       " 'C:\\\\Users\\\\amrikuma\\\\AppData\\\\Local\\\\Continuum\\\\Anaconda3\\\\lib\\\\site-packages\\\\win32\\\\lib',\n",
       " 'C:\\\\Users\\\\amrikuma\\\\AppData\\\\Local\\\\Continuum\\\\Anaconda3\\\\lib\\\\site-packages\\\\Pythonwin',\n",
       " 'C:\\\\Users\\\\amrikuma\\\\AppData\\\\Local\\\\Continuum\\\\Anaconda3\\\\lib\\\\site-packages\\\\setuptools-27.2.0-py3.6.egg',\n",
       " 'C:\\\\Users\\\\amrikuma\\\\AppData\\\\Local\\\\Continuum\\\\Anaconda3\\\\lib\\\\site-packages\\\\IPython\\\\extensions',\n",
       " 'C:\\\\Users\\\\amrikuma\\\\.ipython',\n",
       " 'C:\\\\Users\\\\amrikuma']"
      ]
     },
     "execution_count": 8,
     "metadata": {},
     "output_type": "execute_result"
    }
   ],
   "source": [
    "#import the current file's path to sys.path\n",
    "import sys,pathlib\n",
    "cwd=str(pathlib.Path().resolve())\n",
    "if cwd not in sys.path:\n",
    "    sys.path.append(cwd)\n",
    "sys.path"
   ]
  },
  {
   "cell_type": "code",
   "execution_count": 1,
   "metadata": {
    "scrolled": true
   },
   "outputs": [
    {
     "data": {
      "text/plain": [
       "False"
      ]
     },
     "execution_count": 1,
     "metadata": {},
     "output_type": "execute_result"
    }
   ],
   "source": [
    "all(['a','b',None])   #boolean value of everything in the sequence has to be True"
   ]
  },
  {
   "cell_type": "code",
   "execution_count": 2,
   "metadata": {
    "scrolled": true
   },
   "outputs": [
    {
     "data": {
      "text/plain": [
       "True"
      ]
     },
     "execution_count": 2,
     "metadata": {},
     "output_type": "execute_result"
    }
   ],
   "source": [
    "any(['a','b',None])   #boolean value of any one in the sequence has to be True"
   ]
  },
  {
   "cell_type": "code",
   "execution_count": 3,
   "metadata": {},
   "outputs": [
    {
     "data": {
      "text/plain": [
       "65"
      ]
     },
     "execution_count": 3,
     "metadata": {},
     "output_type": "execute_result"
    }
   ],
   "source": [
    "#ord -> gives the ascii value of a character\n",
    "ord('A')"
   ]
  },
  {
   "cell_type": "code",
   "execution_count": 4,
   "metadata": {},
   "outputs": [
    {
     "data": {
      "text/plain": [
       "'A'"
      ]
     },
     "execution_count": 4,
     "metadata": {},
     "output_type": "execute_result"
    }
   ],
   "source": [
    "#chr -> prints the character,when an ascii value is provided\n",
    "chr(65)"
   ]
  },
  {
   "cell_type": "code",
   "execution_count": 1,
   "metadata": {},
   "outputs": [
    {
     "data": {
      "text/plain": [
       "12288"
      ]
     },
     "execution_count": 1,
     "metadata": {},
     "output_type": "execute_result"
    }
   ],
   "source": [
    "#get the size of a file in pythonic way\n",
    "\n",
    "import os\n",
    "os.path.getsize(\"data.db\")"
   ]
  },
  {
   "cell_type": "code",
   "execution_count": 62,
   "metadata": {},
   "outputs": [
    {
     "name": "stdout",
     "output_type": "stream",
     "text": [
      "<code object f_na_language at 0x0000026A27D9C270, file \"C:\\Users\\amrikuma\\consume_rest_api.py\", line 35>\n"
     ]
    }
   ],
   "source": [
    "#Find a way to check the line number of source code of a function\n",
    "\n",
    "from consume_rest_api import f_na_language\n",
    "dir(f_na_language)\n",
    "print(f_na_language.__code__)"
   ]
  },
  {
   "cell_type": "code",
   "execution_count": 63,
   "metadata": {},
   "outputs": [
    {
     "ename": "AttributeError",
     "evalue": "'builtin_function_or_method' object has no attribute '__code__'",
     "output_type": "error",
     "traceback": [
      "\u001b[1;31m---------------------------------------------------------------------------\u001b[0m",
      "\u001b[1;31mAttributeError\u001b[0m                            Traceback (most recent call last)",
      "\u001b[1;32m<ipython-input-63-d30f69a43064>\u001b[0m in \u001b[0;36m<module>\u001b[1;34m()\u001b[0m\n\u001b[0;32m      2\u001b[0m \u001b[1;31m#like chr is a builtin function written in 'C'\u001b[0m\u001b[1;33m\u001b[0m\u001b[1;33m\u001b[0m\u001b[0m\n\u001b[0;32m      3\u001b[0m \u001b[0mdir\u001b[0m\u001b[1;33m(\u001b[0m\u001b[0mchr\u001b[0m\u001b[1;33m)\u001b[0m\u001b[1;33m\u001b[0m\u001b[0m\n\u001b[1;32m----> 4\u001b[1;33m \u001b[0mchr\u001b[0m\u001b[1;33m.\u001b[0m\u001b[0m__code__\u001b[0m\u001b[1;33m\u001b[0m\u001b[0m\n\u001b[0m",
      "\u001b[1;31mAttributeError\u001b[0m: 'builtin_function_or_method' object has no attribute '__code__'"
     ]
    }
   ],
   "source": [
    "# for some code, which is written in C and integrated to python via c-python, __code__ won't work\n",
    "#like chr is a builtin function written in 'C'\n",
    "dir(chr)\n",
    "chr.__code__"
   ]
  },
  {
   "cell_type": "code",
   "execution_count": 64,
   "metadata": {
    "scrolled": true
   },
   "outputs": [
    {
     "name": "stdout",
     "output_type": "stream",
     "text": [
      "Help on built-in function chr in module builtins:\n",
      "\n",
      "chr(i, /)\n",
      "    Return a Unicode string of one character with ordinal i; 0 <= i <= 0x10ffff.\n",
      "\n"
     ]
    }
   ],
   "source": [
    "help(chr)"
   ]
  },
  {
   "cell_type": "code",
   "execution_count": null,
   "metadata": {
    "collapsed": true
   },
   "outputs": [],
   "source": [
    "#Generally 2 ways to pip install (-U updates the library,if already present)\n",
    "#requirements test has all the modules you need\n",
    "\n",
    "#pip install -r requirements.txt\n",
    "# ! pip install -U Pillow"
   ]
  }
 ],
 "metadata": {
  "kernelspec": {
   "display_name": "Python 3",
   "language": "python",
   "name": "python3"
  },
  "language_info": {
   "codemirror_mode": {
    "name": "ipython",
    "version": 3
   },
   "file_extension": ".py",
   "mimetype": "text/x-python",
   "name": "python",
   "nbconvert_exporter": "python",
   "pygments_lexer": "ipython3",
   "version": "3.6.1"
  }
 },
 "nbformat": 4,
 "nbformat_minor": 2
}
